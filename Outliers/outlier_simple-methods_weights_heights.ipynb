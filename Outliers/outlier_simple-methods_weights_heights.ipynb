{
 "cells": [
  {
   "attachments": {},
   "cell_type": "markdown",
   "metadata": {},
   "source": [
    "# Summary table\n",
    "\n",
    "| Method                | Lower outlier threshold | Upper outlier threshold | pct of outliers |\n",
    "|-----------------------|-------------------------|-------------------------|-----------------|\n",
    "| Z-score 3 std         |                         |                         |                 |\n",
    "| Box plot 1.5 IQR      |                         |                         |                 |\n",
    "| Box plot 3 IQR        |                         |                         |                 |\n",
    "| Cook's distance t=4/N | -                       | -                       |                 |\n",
    "\n"
   ]
  },
  {
   "attachments": {},
   "cell_type": "markdown",
   "metadata": {},
   "source": [
    "# Imports"
   ]
  },
  {
   "cell_type": "code",
   "execution_count": 1,
   "metadata": {},
   "outputs": [],
   "source": [
    "import numpy as np\n",
    "import pandas as pd\n",
    "from matplotlib import pyplot as plt\n",
    "\n",
    "import seaborn as sns\n",
    "\n",
    "#increase font size of all elements\n",
    "sns.set(font_scale=1.5)\n"
   ]
  },
  {
   "attachments": {},
   "cell_type": "markdown",
   "metadata": {},
   "source": [
    "# Load the data"
   ]
  },
  {
   "cell_type": "code",
   "execution_count": 2,
   "metadata": {},
   "outputs": [
    {
     "name": "stdout",
     "output_type": "stream",
     "text": [
      "File saved to data\\weight-height.csv\n"
     ]
    }
   ],
   "source": [
    "import os\n",
    "import requests\n",
    "\n",
    "# Data can be found at https://www.kaggle.com/datasets/mustafaali96/weight-height and also at the following url\n",
    "url = \"https://gist.githubusercontent.com/nstokoe/7d4717e96c21b8ad04ec91f361b000cb/raw/bf95a2e30fceb9f2ae990eac8379fc7d844a0196/weight-height.csv\"\n",
    "\n",
    "def download_data(url, force_download=False, **read_csv_kwargs):\n",
    "    # Donwload data if it is not in disk\n",
    "    data_path = os.path.join('data', os.path.basename(url.split('?')[0]))\n",
    "    if not os.path.exists(data_path) or force_download:\n",
    "        # ensure data dir is created\n",
    "        os.makedirs('data', exist_ok=True)\n",
    "        # request data from url\n",
    "        response = requests.get(url, allow_redirects=True)\n",
    "        # save file\n",
    "        with open(data_path, \"w\") as f:\n",
    "            # Note the content of the response is in binary form: \n",
    "            # it needs to be decoded.\n",
    "            # The response object also contains info about the encoding format\n",
    "            # which we use as argument for the decoding\n",
    "            f.write(response.content.decode(response.apparent_encoding))\n",
    "    print(f\"File saved to {data_path}\")\n",
    "\n",
    "download_data(url)\n"
   ]
  },
  {
   "cell_type": "code",
   "execution_count": 3,
   "metadata": {},
   "outputs": [
    {
     "data": {
      "text/html": [
       "<div>\n",
       "<style scoped>\n",
       "    .dataframe tbody tr th:only-of-type {\n",
       "        vertical-align: middle;\n",
       "    }\n",
       "\n",
       "    .dataframe tbody tr th {\n",
       "        vertical-align: top;\n",
       "    }\n",
       "\n",
       "    .dataframe thead th {\n",
       "        text-align: right;\n",
       "    }\n",
       "</style>\n",
       "<table border=\"1\" class=\"dataframe\">\n",
       "  <thead>\n",
       "    <tr style=\"text-align: right;\">\n",
       "      <th></th>\n",
       "      <th>Gender</th>\n",
       "      <th>Height</th>\n",
       "      <th>Weight</th>\n",
       "    </tr>\n",
       "  </thead>\n",
       "  <tbody>\n",
       "    <tr>\n",
       "      <th>0</th>\n",
       "      <td>Male</td>\n",
       "      <td>1.875718</td>\n",
       "      <td>109.702296</td>\n",
       "    </tr>\n",
       "    <tr>\n",
       "      <th>1</th>\n",
       "      <td>Male</td>\n",
       "      <td>1.747064</td>\n",
       "      <td>73.610192</td>\n",
       "    </tr>\n",
       "    <tr>\n",
       "      <th>2</th>\n",
       "      <td>Male</td>\n",
       "      <td>1.882400</td>\n",
       "      <td>96.481114</td>\n",
       "    </tr>\n",
       "    <tr>\n",
       "      <th>3</th>\n",
       "      <td>Male</td>\n",
       "      <td>1.821970</td>\n",
       "      <td>99.792504</td>\n",
       "    </tr>\n",
       "    <tr>\n",
       "      <th>4</th>\n",
       "      <td>Male</td>\n",
       "      <td>1.775001</td>\n",
       "      <td>93.582676</td>\n",
       "    </tr>\n",
       "  </tbody>\n",
       "</table>\n",
       "</div>"
      ],
      "text/plain": [
       "  Gender    Height      Weight\n",
       "0   Male  1.875718  109.702296\n",
       "1   Male  1.747064   73.610192\n",
       "2   Male  1.882400   96.481114\n",
       "3   Male  1.821970   99.792504\n",
       "4   Male  1.775001   93.582676"
      ]
     },
     "execution_count": 3,
     "metadata": {},
     "output_type": "execute_result"
    }
   ],
   "source": [
    "# read csv file\n",
    "data = pd.read_csv('data/weight-height.csv')\n",
    "#Convert inches/pounds to m/kg\n",
    "data.loc[:, 'Weight'] /= 2.205\n",
    "data.loc[:, 'Height'] /= 39.37\n",
    "\n",
    "# visualize the first 5 rows\n",
    "data.head()\n"
   ]
  },
  {
   "cell_type": "markdown",
   "metadata": {},
   "source": [
    "# Plot histograms\n"
   ]
  },
  {
   "cell_type": "code",
   "execution_count": 4,
   "metadata": {},
   "outputs": [
    {
     "data": {
      "image/png": "[encoded data removed]",
      "text/plain": [
       "<Figure size 1152x288 with 2 Axes>"
      ]
     },
     "metadata": {
      "needs_background": "light"
     },
     "output_type": "display_data"
    }
   ],
   "source": [
    "fig, (ax1, ax2) = plt.subplots(1,2, sharey=True, figsize=(16,4))\n",
    "sns.histplot(data=data, x='Height', kde=True, ax=ax1)\n",
    "sns.histplot(data=data, x='Weight', kde=True, ax=ax2)\n",
    "fig.tight_layout()"
   ]
  },
  {
   "cell_type": "code",
   "execution_count": 5,
   "metadata": {},
   "outputs": [
    {
     "data": {
      "text/plain": [
       "<AxesSubplot:xlabel='Weight', ylabel='Count'>"
      ]
     },
     "execution_count": 5,
     "metadata": {},
     "output_type": "execute_result"
    },
    {
     "data": {
      "image/png": "[encoded data removed]",
      "text/plain": [
       "<Figure size 1152x288 with 2 Axes>"
      ]
     },
     "metadata": {
      "needs_background": "light"
     },
     "output_type": "display_data"
    }
   ],
   "source": [
    "fig, (ax1, ax2) = plt.subplots(1,2, figsize=(16,4))\n",
    "sns.histplot(data=data, x='Height', hue='Gender', kde=True, ax=ax1)\n",
    "sns.histplot(data=data, x='Weight', hue='Gender', kde=True, ax=ax2)"
   ]
  },
  {
   "attachments": {},
   "cell_type": "markdown",
   "metadata": {},
   "source": [
    "# Print basic statistics wtih `describe`\n"
   ]
  },
  {
   "cell_type": "code",
   "execution_count": 6,
   "metadata": {},
   "outputs": [
    {
     "data": {
      "text/html": [
       "<div>\n",
       "<style scoped>\n",
       "    .dataframe tbody tr th:only-of-type {\n",
       "        vertical-align: middle;\n",
       "    }\n",
       "\n",
       "    .dataframe tbody tr th {\n",
       "        vertical-align: top;\n",
       "    }\n",
       "\n",
       "    .dataframe thead th {\n",
       "        text-align: right;\n",
       "    }\n",
       "</style>\n",
       "<table border=\"1\" class=\"dataframe\">\n",
       "  <thead>\n",
       "    <tr style=\"text-align: right;\">\n",
       "      <th></th>\n",
       "      <th>Height</th>\n",
       "      <th>Weight</th>\n",
       "    </tr>\n",
       "  </thead>\n",
       "  <tbody>\n",
       "    <tr>\n",
       "      <th>count</th>\n",
       "      <td>10000.000000</td>\n",
       "      <td>10000.000000</td>\n",
       "    </tr>\n",
       "    <tr>\n",
       "      <th>mean</th>\n",
       "      <td>1.685739</td>\n",
       "      <td>73.215581</td>\n",
       "    </tr>\n",
       "    <tr>\n",
       "      <th>std</th>\n",
       "      <td>0.097727</td>\n",
       "      <td>14.561650</td>\n",
       "    </tr>\n",
       "    <tr>\n",
       "      <th>min</th>\n",
       "      <td>1.378286</td>\n",
       "      <td>29.342461</td>\n",
       "    </tr>\n",
       "    <tr>\n",
       "      <th>25%</th>\n",
       "      <td>1.613046</td>\n",
       "      <td>61.595488</td>\n",
       "    </tr>\n",
       "    <tr>\n",
       "      <th>50%</th>\n",
       "      <td>1.684482</td>\n",
       "      <td>73.112439</td>\n",
       "    </tr>\n",
       "    <tr>\n",
       "      <th>75%</th>\n",
       "      <td>1.757030</td>\n",
       "      <td>84.884138</td>\n",
       "    </tr>\n",
       "    <tr>\n",
       "      <th>max</th>\n",
       "      <td>2.006572</td>\n",
       "      <td>122.444308</td>\n",
       "    </tr>\n",
       "  </tbody>\n",
       "</table>\n",
       "</div>"
      ],
      "text/plain": [
       "             Height        Weight\n",
       "count  10000.000000  10000.000000\n",
       "mean       1.685739     73.215581\n",
       "std        0.097727     14.561650\n",
       "min        1.378286     29.342461\n",
       "25%        1.613046     61.595488\n",
       "50%        1.684482     73.112439\n",
       "75%        1.757030     84.884138\n",
       "max        2.006572    122.444308"
      ]
     },
     "metadata": {},
     "output_type": "display_data"
    }
   ],
   "source": [
    "display(data.describe())"
   ]
  },
  {
   "attachments": {},
   "cell_type": "markdown",
   "metadata": {},
   "source": [
    "# Z-score"
   ]
  },
  {
   "cell_type": "code",
   "execution_count": 7,
   "metadata": {},
   "outputs": [],
   "source": [
    "from scipy.stats import zscore\n",
    "# help(zscore)"
   ]
  },
  {
   "cell_type": "code",
   "execution_count": 8,
   "metadata": {},
   "outputs": [
    {
     "data": {
      "text/html": [
       "<div>\n",
       "<style scoped>\n",
       "    .dataframe tbody tr th:only-of-type {\n",
       "        vertical-align: middle;\n",
       "    }\n",
       "\n",
       "    .dataframe tbody tr th {\n",
       "        vertical-align: top;\n",
       "    }\n",
       "\n",
       "    .dataframe thead th {\n",
       "        text-align: right;\n",
       "    }\n",
       "</style>\n",
       "<table border=\"1\" class=\"dataframe\">\n",
       "  <thead>\n",
       "    <tr style=\"text-align: right;\">\n",
       "      <th></th>\n",
       "      <th>Gender</th>\n",
       "      <th>Height</th>\n",
       "      <th>Weight</th>\n",
       "      <th>Height_z_score</th>\n",
       "      <th>Weight_z_score</th>\n",
       "    </tr>\n",
       "  </thead>\n",
       "  <tbody>\n",
       "    <tr>\n",
       "      <th>0</th>\n",
       "      <td>Male</td>\n",
       "      <td>1.875718</td>\n",
       "      <td>109.702296</td>\n",
       "      <td>1.944061</td>\n",
       "      <td>2.505797</td>\n",
       "    </tr>\n",
       "    <tr>\n",
       "      <th>1</th>\n",
       "      <td>Male</td>\n",
       "      <td>1.747064</td>\n",
       "      <td>73.610192</td>\n",
       "      <td>0.627537</td>\n",
       "      <td>0.027101</td>\n",
       "    </tr>\n",
       "    <tr>\n",
       "      <th>2</th>\n",
       "      <td>Male</td>\n",
       "      <td>1.882400</td>\n",
       "      <td>96.481114</td>\n",
       "      <td>2.012443</td>\n",
       "      <td>1.597806</td>\n",
       "    </tr>\n",
       "    <tr>\n",
       "      <th>3</th>\n",
       "      <td>Male</td>\n",
       "      <td>1.821970</td>\n",
       "      <td>99.792504</td>\n",
       "      <td>1.394060</td>\n",
       "      <td>1.825222</td>\n",
       "    </tr>\n",
       "    <tr>\n",
       "      <th>4</th>\n",
       "      <td>Male</td>\n",
       "      <td>1.775001</td>\n",
       "      <td>93.582676</td>\n",
       "      <td>0.913421</td>\n",
       "      <td>1.398750</td>\n",
       "    </tr>\n",
       "    <tr>\n",
       "      <th>...</th>\n",
       "      <td>...</td>\n",
       "      <td>...</td>\n",
       "      <td>...</td>\n",
       "      <td>...</td>\n",
       "      <td>...</td>\n",
       "    </tr>\n",
       "    <tr>\n",
       "      <th>9995</th>\n",
       "      <td>Female</td>\n",
       "      <td>1.680789</td>\n",
       "      <td>62.030591</td>\n",
       "      <td>-0.050660</td>\n",
       "      <td>-0.768151</td>\n",
       "    </tr>\n",
       "    <tr>\n",
       "      <th>9996</th>\n",
       "      <td>Female</td>\n",
       "      <td>1.703509</td>\n",
       "      <td>77.491114</td>\n",
       "      <td>0.181839</td>\n",
       "      <td>0.293631</td>\n",
       "    </tr>\n",
       "    <tr>\n",
       "      <th>9997</th>\n",
       "      <td>Female</td>\n",
       "      <td>1.622250</td>\n",
       "      <td>58.265451</td>\n",
       "      <td>-0.649688</td>\n",
       "      <td>-1.026730</td>\n",
       "    </tr>\n",
       "    <tr>\n",
       "      <th>9998</th>\n",
       "      <td>Female</td>\n",
       "      <td>1.753473</td>\n",
       "      <td>74.309506</td>\n",
       "      <td>0.693125</td>\n",
       "      <td>0.075127</td>\n",
       "    </tr>\n",
       "    <tr>\n",
       "      <th>9999</th>\n",
       "      <td>Female</td>\n",
       "      <td>1.573387</td>\n",
       "      <td>51.541543</td>\n",
       "      <td>-1.149708</td>\n",
       "      <td>-1.488507</td>\n",
       "    </tr>\n",
       "  </tbody>\n",
       "</table>\n",
       "<p>10000 rows × 5 columns</p>\n",
       "</div>"
      ],
      "text/plain": [
       "      Gender    Height      Weight  Height_z_score  Weight_z_score\n",
       "0       Male  1.875718  109.702296        1.944061        2.505797\n",
       "1       Male  1.747064   73.610192        0.627537        0.027101\n",
       "2       Male  1.882400   96.481114        2.012443        1.597806\n",
       "3       Male  1.821970   99.792504        1.394060        1.825222\n",
       "4       Male  1.775001   93.582676        0.913421        1.398750\n",
       "...      ...       ...         ...             ...             ...\n",
       "9995  Female  1.680789   62.030591       -0.050660       -0.768151\n",
       "9996  Female  1.703509   77.491114        0.181839        0.293631\n",
       "9997  Female  1.622250   58.265451       -0.649688       -1.026730\n",
       "9998  Female  1.753473   74.309506        0.693125        0.075127\n",
       "9999  Female  1.573387   51.541543       -1.149708       -1.488507\n",
       "\n",
       "[10000 rows x 5 columns]"
      ]
     },
     "execution_count": 8,
     "metadata": {},
     "output_type": "execute_result"
    }
   ],
   "source": [
    "# Compute z-score\n",
    "data_with_z = data.join(data[['Height', 'Weight']].apply(zscore), rsuffix='_z_score')\n",
    "data_with_z"
   ]
  },
  {
   "attachments": {},
   "cell_type": "markdown",
   "metadata": {},
   "source": [
    "## Outlier ratio"
   ]
  },
  {
   "cell_type": "code",
   "execution_count": 9,
   "metadata": {},
   "outputs": [
    {
     "ename": "TypeError",
     "evalue": "unsupported format string passed to ellipsis.__format__",
     "output_type": "error",
     "traceback": [
      "\u001b[1;31m---------------------------------------------------------------------------\u001b[0m",
      "\u001b[1;31mTypeError\u001b[0m                                 Traceback (most recent call last)",
      "\u001b[1;32mc:\\Users\\tdrumond\\OneDrive - Fondation EPF\\Teaching\\MDE_DataCleaning\\data-cleaning-git-repo\\Outliers\\outlier_simple-methods_weights_heights.ipynb Cell 16\u001b[0m in \u001b[0;36m<cell line: 9>\u001b[1;34m()\u001b[0m\n\u001b[0;32m      <a href='vscode-notebook-cell:/c%3A/Users/tdrumond/OneDrive%20-%20Fondation%20EPF/Teaching/MDE_DataCleaning/data-cleaning-git-repo/Outliers/outlier_simple-methods_weights_heights.ipynb#X21sZmlsZQ%3D%3D?line=6'>7</a>\u001b[0m outlier_count \u001b[39m=\u001b[39m \u001b[39m.\u001b[39m\u001b[39m.\u001b[39m\u001b[39m.\u001b[39m\n\u001b[0;32m      <a href='vscode-notebook-cell:/c%3A/Users/tdrumond/OneDrive%20-%20Fondation%20EPF/Teaching/MDE_DataCleaning/data-cleaning-git-repo/Outliers/outlier_simple-methods_weights_heights.ipynb#X21sZmlsZQ%3D%3D?line=7'>8</a>\u001b[0m outlier_ratio \u001b[39m=\u001b[39m \u001b[39m.\u001b[39m\u001b[39m.\u001b[39m\u001b[39m.\u001b[39m\n\u001b[0;32m      <a href='vscode-notebook-cell:/c%3A/Users/tdrumond/OneDrive%20-%20Fondation%20EPF/Teaching/MDE_DataCleaning/data-cleaning-git-repo/Outliers/outlier_simple-methods_weights_heights.ipynb#X21sZmlsZQ%3D%3D?line=8'>9</a>\u001b[0m \u001b[39mprint\u001b[39m(\n\u001b[1;32m---> <a href='vscode-notebook-cell:/c%3A/Users/tdrumond/OneDrive%20-%20Fondation%20EPF/Teaching/MDE_DataCleaning/data-cleaning-git-repo/Outliers/outlier_simple-methods_weights_heights.ipynb#X21sZmlsZQ%3D%3D?line=9'>10</a>\u001b[0m     \u001b[39mf\u001b[39m\u001b[39m'\u001b[39m\u001b[39mHeight outlier count: \u001b[39m\u001b[39m{\u001b[39;00moutlier_count\u001b[39m:\u001b[39;00m\u001b[39md\u001b[39m\u001b[39m}\u001b[39;00m\u001b[39m/\u001b[39m\u001b[39m{\u001b[39;00mdata\u001b[39m.\u001b[39mshape[\u001b[39m0\u001b[39m]\u001b[39m}\u001b[39;00m\u001b[39m \u001b[39m\u001b[39m'\u001b[39m\n\u001b[0;32m     <a href='vscode-notebook-cell:/c%3A/Users/tdrumond/OneDrive%20-%20Fondation%20EPF/Teaching/MDE_DataCleaning/data-cleaning-git-repo/Outliers/outlier_simple-methods_weights_heights.ipynb#X21sZmlsZQ%3D%3D?line=10'>11</a>\u001b[0m     \u001b[39mf\u001b[39m\u001b[39m'\u001b[39m\u001b[39m(\u001b[39m\u001b[39m{\u001b[39;00moutlier_ratio\u001b[39m*\u001b[39m\u001b[39m100\u001b[39m\u001b[39m:\u001b[39;00m\u001b[39m0.5f\u001b[39m\u001b[39m}\u001b[39;00m\u001b[39m%)\u001b[39m\u001b[39m'\u001b[39m)\n\u001b[0;32m     <a href='vscode-notebook-cell:/c%3A/Users/tdrumond/OneDrive%20-%20Fondation%20EPF/Teaching/MDE_DataCleaning/data-cleaning-git-repo/Outliers/outlier_simple-methods_weights_heights.ipynb#X21sZmlsZQ%3D%3D?line=11'>12</a>\u001b[0m \u001b[39m# Display the outlier count for width\u001b[39;00m\n\u001b[0;32m     <a href='vscode-notebook-cell:/c%3A/Users/tdrumond/OneDrive%20-%20Fondation%20EPF/Teaching/MDE_DataCleaning/data-cleaning-git-repo/Outliers/outlier_simple-methods_weights_heights.ipynb#X21sZmlsZQ%3D%3D?line=12'>13</a>\u001b[0m outlier_count \u001b[39m=\u001b[39m \u001b[39m.\u001b[39m\u001b[39m.\u001b[39m\u001b[39m.\u001b[39m\n",
      "\u001b[1;31mTypeError\u001b[0m: unsupported format string passed to ellipsis.__format__"
     ]
    }
   ],
   "source": [
    "\n",
    "# compute outlier masks for Height and Weight\n",
    "is_outlier_H = (data_with_z.Height_z_score.abs() > 3)\n",
    "is_outlier_W = (data_with_z.Weight_z_score.abs() > 3)\n",
    "\n",
    "# TODO complete to show the outlier count and ratio\n",
    "# Display outlier count for height\n",
    "outlier_count = ...\n",
    "outlier_ratio = ...\n",
    "print(\n",
    "    f'Height outlier count: {outlier_count:d}/{data.shape[0]} '\n",
    "    f'({outlier_ratio*100:0.5f}%)')\n",
    "# Display the outlier count for width\n",
    "outlier_count = ...\n",
    "outlier_ratio = ...\n",
    "print(\n",
    "    f'Weight outlier count: {outlier_count:d}/{data.shape[0]} '\n",
    "    f'({outlier_ratio*100:0.5f}%)')"
   ]
  },
  {
   "attachments": {},
   "cell_type": "markdown",
   "metadata": {},
   "source": [
    "**Note**: z-score can also be applied by group:"
   ]
  },
  {
   "cell_type": "code",
   "execution_count": null,
   "metadata": {},
   "outputs": [],
   "source": [
    "data.join(data.groupby('Gender').apply(zscore), rsuffix='_z_score')"
   ]
  },
  {
   "attachments": {},
   "cell_type": "markdown",
   "metadata": {},
   "source": [
    "# Box-plots + interquartile range\n"
   ]
  },
  {
   "attachments": {},
   "cell_type": "markdown",
   "metadata": {},
   "source": [
    "## Whiskers at 1.5 IQR"
   ]
  },
  {
   "cell_type": "code",
   "execution_count": null,
   "metadata": {},
   "outputs": [],
   "source": [
    "fig, (ax1, ax2) = plt.subplots(2,1, figsize=(10,5))\n",
    "sns.boxplot(data=data, x='Height',orient='horiz', ax=ax1)\n",
    "sns.boxplot(data=data, x='Weight',orient='horiz', ax=ax2)\n",
    "fig.tight_layout()"
   ]
  },
  {
   "attachments": {},
   "cell_type": "markdown",
   "metadata": {},
   "source": [
    "## Whiskers at 3 IQR"
   ]
  },
  {
   "cell_type": "code",
   "execution_count": null,
   "metadata": {},
   "outputs": [],
   "source": [
    "fig, (ax1, ax2) = plt.subplots(2,1, figsize=(10,5))\n",
    "sns.boxplot(data=data, x='Height',orient='horiz', whis=3, ax=ax1)\n",
    "sns.boxplot(data=data, x='Weight',orient='horiz', whis=3, ax=ax2)\n",
    "fig.tight_layout()"
   ]
  },
  {
   "attachments": {},
   "cell_type": "markdown",
   "metadata": {},
   "source": [
    "## Outlier ratio"
   ]
  },
  {
   "cell_type": "code",
   "execution_count": null,
   "metadata": {},
   "outputs": [],
   "source": [
    "q1 = data.quantile(0.25, interpolation='nearest')\n",
    "q3 = data.quantile(0.75, interpolation='nearest')\n",
    "IQR = q3-q1\n",
    "IQR"
   ]
  },
  {
   "cell_type": "code",
   "execution_count": null,
   "metadata": {},
   "outputs": [],
   "source": [
    "k = 1.5\n",
    "lower, upper = q1-k*IQR, q3+k*IQR\n",
    "lower, upper"
   ]
  },
  {
   "cell_type": "code",
   "execution_count": null,
   "metadata": {},
   "outputs": [],
   "source": [
    "upper_outliers = data.Height > upper.loc['Height']\n",
    "lower_outliers = data.Height < lower.loc['Height']\n",
    "# TODO complete to retrieve outlier count and ratio\n",
    "outilier_count = ...\n",
    "outlier_ratio = ...\n",
    "print(\n",
    "    f'Height outlier count: {outilier_count:d}/{data.shape[0]} '\n",
    "    f'({outlier_ratio*100:0.5f}%)')\n"
   ]
  },
  {
   "cell_type": "code",
   "execution_count": null,
   "metadata": {},
   "outputs": [],
   "source": [
    "upper_outliers = data.Weight > upper.loc['Weight']\n",
    "lower_outliers = data.Weight < lower.loc['Weight']\n",
    "# TODO complete to retrieve outlier count and ratio\n",
    "outilier_count = ...\n",
    "outlier_ratio = ...\n",
    "print(\n",
    "    f'Weight outlier count: {outilier_count:d}/{data.shape[0]} '\n",
    "    f'({outlier_ratio*100:0.5f}%)')\n"
   ]
  },
  {
   "attachments": {},
   "cell_type": "markdown",
   "metadata": {},
   "source": [
    "# Regression based methods"
   ]
  },
  {
   "cell_type": "code",
   "execution_count": null,
   "metadata": {},
   "outputs": [],
   "source": [
    "fig, axs = plt.subplots(1,2, figsize=(10,5))\n",
    "ax = axs[0]\n",
    "ax.set_title('scatter+ regression line')\n",
    "sns.regplot(\n",
    "        data=data, x='Height', y='Weight',\n",
    "        line_kws={\"color\": \"C1\"}, scatter_kws={\"s\": 10}, ax=ax)\n",
    "ax = axs[1]\n",
    "ax.set_title(f' residuals')\n",
    "sns.residplot(\n",
    "data=data, x='Height', y='Weight',\n",
    "ax=ax)\n",
    "fig.tight_layout()"
   ]
  },
  {
   "attachments": {},
   "cell_type": "markdown",
   "metadata": {},
   "source": [
    "## Cook's distance\n"
   ]
  },
  {
   "cell_type": "code",
   "execution_count": null,
   "metadata": {},
   "outputs": [],
   "source": [
    "import statsmodels.api as sm\n",
    "from statsmodels.formula.api import ols\n",
    "from statsmodels.stats.outliers_influence import OLSInfluence\n",
    "\n",
    "# fit the regression model using statsmodels library\n",
    "f = 'Weight ~ Height'\n",
    "model = ols(formula=f, data=data).fit()\n",
    "\n",
    "# calculate the cooks_distance - the OLSInfluence object contains multiple influence measurements\n",
    "cook_distance = OLSInfluence(model).cooks_distance\n",
    "(distance, p_value) = cook_distance"
   ]
  },
  {
   "attachments": {},
   "cell_type": "markdown",
   "metadata": {},
   "source": [
    "## Outlier ratio"
   ]
  },
  {
   "cell_type": "code",
   "execution_count": null,
   "metadata": {},
   "outputs": [],
   "source": [
    "# TODO complete to show the outlier count and ratio\n",
    "threshold = 4/data.shape[0]\n",
    "is_outlier = distance > threshold\n",
    "outlier_count = ...\n",
    "outlier_ratio = ...\n",
    "print(f'At threshold 4/N = {threshold:0.5f}, '\n",
    "      f'{outlier_count} samples are considered outliers '\n",
    "      f'({outlier_ratio*100:0.2f}% of the samples)')"
   ]
  },
  {
   "cell_type": "code",
   "execution_count": null,
   "metadata": {},
   "outputs": [],
   "source": [
    "# scatter plot - x axis (independent variable height), y-axis (dependent variable weight), size and color of the marks according to its cook's distance\n",
    "fig, axs = plt.subplots(1, 2, figsize=(15, 5))\n",
    "axs[0].set_title('Cook\\'s distance')\n",
    "sns.scatterplot(data=data, x=\"Height\", y=\"Weight\",\n",
    "                hue=distance, size=distance, ax=axs[0],\n",
    "                sizes=(50, 200), edgecolor='black', linewidth=1)\n",
    "\n",
    "\n",
    "axs[1].set_title('Residual plot showing outliers')\n",
    "sns.scatterplot(data=data, x=\"Height\", y=model.resid, ax=axs[1],\n",
    "                style=is_outlier, hue=is_outlier)\n",
    "plt.show()\n"
   ]
  },
  {
   "cell_type": "code",
   "execution_count": null,
   "metadata": {},
   "outputs": [
    {
     "data": {
      "image/png": "[encoded data removed]",
      "text/plain": [
       "<Figure size 432x288 with 1 Axes>"
      ]
     },
     "metadata": {},
     "output_type": "display_data"
    }
   ],
   "source": [
    "threshold = 4/data.shape[0]\n",
    "\n",
    "# stem plot - the x-axis represents the index of the observation and the y-axis its Cook's distance\n",
    "plt.stem(distance, basefmt=\" \")\n",
    "\n",
    "# horizontal line showing the threshold value\n",
    "plt.hlines(threshold, -2, 1+data.shape[0], 'r')\n",
    "\n",
    "# the observations with Cook's distances higher than the threshold value are labeled in the plot\n",
    "influencial_data = distance[distance > threshold]\n",
    "\n",
    "# ticks\n",
    "plt.xticks(fontsize=14)\n",
    "plt.yticks(fontsize=14)\n",
    "\n",
    "# labels and title\n",
    "plt.xlabel('index', fontsize=14)\n",
    "plt.ylabel('cook\\'s distance', fontsize=14)\n",
    "plt.title('Cook\\'s distance', fontsize=20);"
   ]
  },
  {
   "cell_type": "code",
   "execution_count": null,
   "metadata": {},
   "outputs": [
    {
     "data": {
      "image/png": "[encoded data removed]",
      "text/plain": [
       "<Figure size 432x288 with 1 Axes>"
      ]
     },
     "metadata": {},
     "output_type": "display_data"
    }
   ],
   "source": [
    "# Zooming around the threshold\n",
    "plt.stem(distance, basefmt=\" \")\n",
    "plt.hlines(threshold, -2, 1+data.shape[0], 'r')\n",
    "plt.ylim(0,2*threshold)\n",
    "plt.xticks(fontsize=14)\n",
    "plt.yticks(fontsize=14)\n",
    "# labels and title\n",
    "plt.xlabel('index', fontsize=14)\n",
    "plt.ylabel('cook\\'s distance', fontsize=14)\n",
    "plt.title('Cook\\'s distance', fontsize=20);"
   ]
  }
 ],
 "metadata": {
  "kernelspec": {
   "display_name": "ml-latest",
   "language": "python",
   "name": "python3"
  },
  "language_info": {
   "codemirror_mode": {
    "name": "ipython",
    "version": 3
   },
   "file_extension": ".py",
   "mimetype": "text/x-python",
   "name": "python",
   "nbconvert_exporter": "python",
   "pygments_lexer": "ipython3",
   "version": "3.10.5"
  },
  "orig_nbformat": 4,
  "vscode": {
   "interpreter": {
    "hash": "1bede9cc09fadb76754e231ea17b3d1b4d36d88785eed308e26382b97c73c356"
   }
  }
 },
 "nbformat": 4,
 "nbformat_minor": 2
}
