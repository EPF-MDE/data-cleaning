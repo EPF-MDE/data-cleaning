{
 "cells": [
  {
   "attachments": {},
   "cell_type": "markdown",
   "metadata": {},
   "source": [
    "# Summary table\n",
    "\n",
    "| Method                | Lower outlier threshold | Upper outlier threshold | pct of outliers |\n",
    "|-----------------------|-------------------------|-------------------------|-----------------|\n",
    "| Z-score 3 std         |                         |                         |                 |\n",
    "| Box plot 1.5 IQR      |                         |                         |                 |\n",
    "| Box plot 3 IQR        |                         |                         |                 |\n",
    "| Cook's distance t=4/N | -                       | -                       |                 |\n",
    "\n"
   ]
  },
  {
   "attachments": {},
   "cell_type": "markdown",
   "metadata": {},
   "source": [
    "# Imports"
   ]
  },
  {
   "cell_type": "code",
   "execution_count": null,
   "metadata": {},
   "outputs": [],
   "source": [
    "import numpy as np\n",
    "import pandas as pd\n",
    "from matplotlib import pyplot as plt\n",
    "\n",
    "import seaborn as sns\n",
    "\n",
    "#increase font size of all elements\n",
    "sns.set(font_scale=1.5)\n"
   ]
  },
  {
   "attachments": {},
   "cell_type": "markdown",
   "metadata": {},
   "source": [
    "# Load the data"
   ]
  },
  {
   "cell_type": "code",
   "execution_count": null,
   "metadata": {},
   "outputs": [],
   "source": [
    "import os\n",
    "import requests\n",
    "\n",
    "# Data can be found at https://www.kaggle.com/datasets/mustafaali96/weight-height and also at the following url\n",
    "url = \"https://gist.githubusercontent.com/nstokoe/7d4717e96c21b8ad04ec91f361b000cb/raw/bf95a2e30fceb9f2ae990eac8379fc7d844a0196/weight-height.csv\"\n",
    "\n",
    "def download_data(url, force_download=False, **read_csv_kwargs):\n",
    "    # Donwload data if it is not in disk\n",
    "    data_path = os.path.join('data', os.path.basename(url.split('?')[0]))\n",
    "    if not os.path.exists(data_path) or force_download:\n",
    "        # ensure data dir is created\n",
    "        os.makedirs('data', exist_ok=True)\n",
    "        # request data from url\n",
    "        response = requests.get(url, allow_redirects=True)\n",
    "        # save file\n",
    "        with open(data_path, \"w\") as f:\n",
    "            # Note the content of the response is in binary form: \n",
    "            # it needs to be decoded.\n",
    "            # The response object also contains info about the encoding format\n",
    "            # which we use as argument for the decoding\n",
    "            f.write(response.content.decode(response.apparent_encoding))\n",
    "    print(f\"File saved to {data_path}\")\n",
    "\n",
    "download_data(url)\n"
   ]
  },
  {
   "cell_type": "code",
   "execution_count": null,
   "metadata": {},
   "outputs": [],
   "source": [
    "# read csv file\n",
    "data = pd.read_csv('data/weight-height.csv')\n",
    "#Convert inches/pounds to m/kg\n",
    "data.loc[:, 'Weight'] /= 2.205\n",
    "data.loc[:, 'Height'] /= 39.37\n",
    "\n",
    "# visualize the first 5 rows\n",
    "data.head()\n"
   ]
  },
  {
   "cell_type": "markdown",
   "metadata": {},
   "source": [
    "# Plot histograms\n"
   ]
  },
  {
   "cell_type": "code",
   "execution_count": null,
   "metadata": {},
   "outputs": [],
   "source": [
    "fig, (ax1, ax2) = plt.subplots(1,2, sharey=True, figsize=(16,4))\n",
    "sns.histplot(data=data, x='Height', kde=True, ax=ax1)\n",
    "sns.histplot(data=data, x='Weight', kde=True, ax=ax2)\n",
    "fig.tight_layout()"
   ]
  },
  {
   "cell_type": "code",
   "execution_count": null,
   "metadata": {},
   "outputs": [],
   "source": [
    "fig, (ax1, ax2) = plt.subplots(1,2, figsize=(16,4))\n",
    "sns.histplot(data=data, x='Height', hue='Gender', kde=True, ax=ax1)\n",
    "sns.histplot(data=data, x='Weight', hue='Gender', kde=True, ax=ax2)"
   ]
  },
  {
   "attachments": {},
   "cell_type": "markdown",
   "metadata": {},
   "source": [
    "# Print basic statistics wtih `describe`\n"
   ]
  },
  {
   "cell_type": "code",
   "execution_count": null,
   "metadata": {},
   "outputs": [],
   "source": [
    "display(data.describe())"
   ]
  },
  {
   "attachments": {},
   "cell_type": "markdown",
   "metadata": {},
   "source": [
    "# Z-score"
   ]
  },
  {
   "cell_type": "code",
   "execution_count": null,
   "metadata": {},
   "outputs": [],
   "source": [
    "from scipy.stats import zscore\n",
    "# help(zscore)"
   ]
  },
  {
   "attachments": {},
   "cell_type": "markdown",
   "metadata": {},
   "source": [
    "## Outlier ratio"
   ]
  },
  {
   "cell_type": "code",
   "execution_count": null,
   "metadata": {},
   "outputs": [],
   "source": [
    "# Compute z-score\n",
    "data_with_z = data.join(data[['Height', 'Weight']].apply(zscore), rsuffix='_z_score')\n",
    "\n",
    "# compute outlier masks for Height and Weight\n",
    "is_outlier_H = (data_with_z.Height_z_score.abs() > 3)\n",
    "is_outlier_W = (data_with_z.Weight_z_score.abs() > 3)\n",
    "\n",
    "# TODO complete to show the outlier count and ratio\n",
    "# Display outlier count for height\n",
    "outlier_count = ...\n",
    "outlier_ratio = ...\n",
    "print(\n",
    "    f'Height outlier count: {outlier_count:d}/{data.shape[0]} '\n",
    "    f'({outlier_ratio*100:0.5f}%)')\n",
    "# Display the outlier count for width\n",
    "outlier_count = ...\n",
    "outlier_ratio = ...\n",
    "print(\n",
    "    f'Weight outlier count: {outlier_count:d}/{data.shape[0]} '\n",
    "    f'({outlier_ratio*100:0.5f}%)')"
   ]
  },
  {
   "attachments": {},
   "cell_type": "markdown",
   "metadata": {},
   "source": [
    "**Note**: z-score can also be applied by group:"
   ]
  },
  {
   "cell_type": "code",
   "execution_count": null,
   "metadata": {},
   "outputs": [],
   "source": [
    "data.join(data.groupby('Gender').apply(zscore), rsuffix='_z_score')"
   ]
  },
  {
   "attachments": {},
   "cell_type": "markdown",
   "metadata": {},
   "source": [
    "# Box-plots + interquartile range\n"
   ]
  },
  {
   "attachments": {},
   "cell_type": "markdown",
   "metadata": {},
   "source": [
    "## Whiskers at 1.5 IQR"
   ]
  },
  {
   "cell_type": "code",
   "execution_count": null,
   "metadata": {},
   "outputs": [],
   "source": [
    "fig, (ax1, ax2) = plt.subplots(2,1, figsize=(10,5))\n",
    "sns.boxplot(data=data, x='Height',orient='horiz', ax=ax1)\n",
    "sns.boxplot(data=data, x='Weight',orient='horiz', ax=ax2)\n",
    "fig.tight_layout()"
   ]
  },
  {
   "attachments": {},
   "cell_type": "markdown",
   "metadata": {},
   "source": [
    "## Whiskers at 3 IQR"
   ]
  },
  {
   "cell_type": "code",
   "execution_count": null,
   "metadata": {},
   "outputs": [],
   "source": [
    "fig, (ax1, ax2) = plt.subplots(2,1, figsize=(10,5))\n",
    "sns.boxplot(data=data, x='Height',orient='horiz', whis=3, ax=ax1)\n",
    "sns.boxplot(data=data, x='Weight',orient='horiz', whis=3, ax=ax2)\n",
    "fig.tight_layout()"
   ]
  },
  {
   "attachments": {},
   "cell_type": "markdown",
   "metadata": {},
   "source": [
    "## Outlier ratio"
   ]
  },
  {
   "cell_type": "code",
   "execution_count": null,
   "metadata": {},
   "outputs": [],
   "source": [
    "q1 = data.quantile(0.25, interpolation='nearest')\n",
    "q3 = data.quantile(0.75, interpolation='nearest')\n",
    "IQR = q3-q1\n",
    "IQR"
   ]
  },
  {
   "cell_type": "code",
   "execution_count": null,
   "metadata": {},
   "outputs": [],
   "source": [
    "k = 1.5\n",
    "lower, upper = q1-k*IQR, q3+k*IQR\n",
    "lower, upper"
   ]
  },
  {
   "cell_type": "code",
   "execution_count": null,
   "metadata": {},
   "outputs": [],
   "source": [
    "upper_outliers = data.Height > upper.loc['Height']\n",
    "lower_outliers = data.Height < lower.loc['Height']\n",
    "# TODO complete to retrieve outlier count and ratio\n",
    "outilier_count = ...\n",
    "outlier_ratio = ...\n",
    "print(\n",
    "    f'Height outlier count: {outilier_count:d}/{data.shape[0]} '\n",
    "    f'({outlier_ratio*100:0.5f}%)')\n"
   ]
  },
  {
   "cell_type": "code",
   "execution_count": null,
   "metadata": {},
   "outputs": [],
   "source": [
    "upper_outliers = data.Weight > upper.loc['Weight']\n",
    "lower_outliers = data.Weight < lower.loc['Weight']\n",
    "# TODO complete to retrieve outlier count and ratio\n",
    "outilier_count = ...\n",
    "outlier_ratio = ...\n",
    "print(\n",
    "    f'Weight outlier count: {outilier_count:d}/{data.shape[0]} '\n",
    "    f'({outlier_ratio*100:0.5f}%)')\n"
   ]
  },
  {
   "attachments": {},
   "cell_type": "markdown",
   "metadata": {},
   "source": [
    "# Regression based methods"
   ]
  },
  {
   "cell_type": "code",
   "execution_count": null,
   "metadata": {},
   "outputs": [],
   "source": [
    "fig, axs = plt.subplots(1,2, figsize=(10,5))\n",
    "ax = axs[0]\n",
    "ax.set_title('scatter+ regression line')\n",
    "sns.regplot(\n",
    "        data=data, x='Height', y='Weight',\n",
    "        line_kws={\"color\": \"C1\"}, scatter_kws={\"s\": 10}, ax=ax)\n",
    "ax = axs[1]\n",
    "ax.set_title(f' residuals')\n",
    "sns.residplot(\n",
    "data=data, x='Height', y='Weight',\n",
    "ax=ax)\n",
    "fig.tight_layout()"
   ]
  },
  {
   "attachments": {},
   "cell_type": "markdown",
   "metadata": {},
   "source": [
    "## Cook's distance\n"
   ]
  },
  {
   "cell_type": "code",
   "execution_count": null,
   "metadata": {},
   "outputs": [],
   "source": [
    "import statsmodels.api as sm\n",
    "from statsmodels.formula.api import ols\n",
    "from statsmodels.stats.outliers_influence import OLSInfluence\n",
    "\n",
    "# fit the regression model using statsmodels library\n",
    "f = 'Weight ~ Height'\n",
    "model = ols(formula=f, data=data).fit()\n",
    "\n",
    "# calculate the cooks_distance - the OLSInfluence object contains multiple influence measurements\n",
    "cook_distance = OLSInfluence(model).cooks_distance\n",
    "(distance, p_value) = cook_distance"
   ]
  },
  {
   "attachments": {},
   "cell_type": "markdown",
   "metadata": {},
   "source": [
    "## Outlier ratio"
   ]
  },
  {
   "cell_type": "code",
   "execution_count": null,
   "metadata": {},
   "outputs": [],
   "source": [
    "# TODO complete to show the outlier count and ratio\n",
    "threshold = 6/data.shape[0]\n",
    "is_outlier = distance > threshold\n",
    "outlier_count = ...\n",
    "outlier_ratio = ...\n",
    "print(f'At threshold 4/N = {threshold:0.5f}, '\n",
    "      f'{outlier_count} samples are considered outliers '\n",
    "      f'({outlier_ratio*100:0.2f}% of the samples)')"
   ]
  },
  {
   "cell_type": "code",
   "execution_count": null,
   "metadata": {},
   "outputs": [],
   "source": [
    "# scatter plot - x axis (independent variable height), y-axis (dependent variable weight), size and color of the marks according to its cook's distance\n",
    "fig, axs = plt.subplots(1, 2, figsize=(15, 5))\n",
    "axs[0].set_title('Cook\\'s distance')\n",
    "sns.scatterplot(data=data, x=\"Height\", y=\"Weight\",\n",
    "                hue=distance, size=distance, ax=axs[0],\n",
    "                sizes=(50, 200), edgecolor='black', linewidth=1)\n",
    "\n",
    "\n",
    "axs[1].set_title('Residual plot showing outliers')\n",
    "sns.scatterplot(data=data, x=\"Height\", y=model.resid, ax=axs[1],\n",
    "                style=is_outlier, hue=is_outlier)\n",
    "plt.show()\n"
   ]
  }
 ],
 "metadata": {
  "kernelspec": {
   "display_name": "ml-latest",
   "language": "python",
   "name": "python3"
  },
  "language_info": {
   "codemirror_mode": {
    "name": "ipython",
    "version": 3
   },
   "file_extension": ".py",
   "mimetype": "text/x-python",
   "name": "python",
   "nbconvert_exporter": "python",
   "pygments_lexer": "ipython3",
   "version": "3.10.5"
  },
  "orig_nbformat": 4,
  "vscode": {
   "interpreter": {
    "hash": "1bede9cc09fadb76754e231ea17b3d1b4d36d88785eed308e26382b97c73c356"
   }
  }
 },
 "nbformat": 4,
 "nbformat_minor": 2
}
