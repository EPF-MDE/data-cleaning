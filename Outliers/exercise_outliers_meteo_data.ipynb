{
 "cells": [
  {
   "cell_type": "markdown",
   "metadata": {},
   "source": [
    "# Exercise: Simple outlier removal on meteorological data\n",
    "## Instructions\n",
    "1. Load the data from the csv file\n",
    "2. We are going to look at data retrived from \"sensor 2\", which measures temperature, humidity and pressure (columns `Temp2`, `Pression` and `hum2`). Create a new dataframe containing only these columns.\n",
    "3. Use `plotly.express` to plot the points in each column. Use `px.scatter` to see only the available points without connecting lines. Zoom around and notice how the time frequency of the measuremnts is variable. Note many dates have no measurements registered. Do you see hints of outlier presence? \n",
    "4. Plot histograms and use the `describe` function to visualize some statistics. Do you see hints of outlier presence?\n",
    "5. Plot each column using boxplots (using `pandas.DataFrame.plot(kind='box',...)`). Do you see any outliers in the plots?\n",
    "6. Try changing the whiskers limits using the parameter `whis`, and observe the difference in the number of outliers detected. Repeat the plot for the following thresholds:\n",
    "    - +- 3 IQR\n",
    "    - bottom 5% / top 95%\n",
    "    - bottom 1% / top 99%\n",
    "    - bottom 0.5% / top 99.5%\n",
    "7. Based on the previous therholds, use a simple method to remove some of the outliers. \n",
    "    - Select apropriate tresholds for each column\n",
    "    - You can just remove them (with a mask) or use winsorizing (`pd.clip`). \n",
    "    - Save the clean data to a **new** dataframe, **do not overwrite the previous one**.\n",
    "8. To exemplify the effect of removing outliers, you are going to plot a heatmat representing the correlation matrix of these columns. \n",
    "    - Repeat the plot for the data with and without outliers. \n",
    "    - Did you observe major changes in the correlation indexes? \n",
    "    - You can use the following code to plot the correlation heatmap:\n",
    "        ``` python\n",
    "        sns.heatmap(data.corr(),\n",
    "                    vmin=-1, vmax=1,\n",
    "                    annot=True, fmt=\".2f\", cmap='coolwarm',\n",
    "                    mask=np.tri(data.shape[1], k=-1).T)\n",
    "        ```\n",
    "\n",
    "\n",
    "\n",
    "## Useful documentation\n",
    "- [Plotly express `scatter`](https://plotly.com/python-api-reference/generated/plotly.express.scatter.html)\n",
    "- [Pandas `DataFrame.plot(kind=...)`](https://pandas.pydata.org/docs/reference/api/pandas.DataFrame.plot.html)\n",
    "- [Matplotlib `hist`](https://matplotlib.org/3.1.1/api/_as_gen/matplotlib.pyplot.hist.html)\n",
    "- [Seaborn `histplot`](https://seaborn.pydata.org/generated/seaborn.histplot.html)\n",
    "- [Matplotlib `boxplot`](https://matplotlib.org/3.1.1/api/_as_gen/matplotlib.pyplot.boxplot.html)\n",
    "- [Seaborn `boxplot`](https://seaborn.pydata.org/generated/seaborn.boxplot.html)\n",
    "- [Pandas `DataFrame.clip`](https://pandas.pydata.org/docs/reference/api/pandas.DataFrame.clip.html)"
   ]
  },
  {
   "cell_type": "markdown",
   "metadata": {},
   "source": [
    "# Imports"
   ]
  },
  {
   "cell_type": "code",
   "execution_count": 1,
   "metadata": {},
   "outputs": [],
   "source": [
    "import numpy as np\n",
    "import pandas as pd\n",
    "from matplotlib import pyplot as plt\n",
    "\n",
    "import seaborn as sns\n",
    "\n",
    "import plotly.express as px\n",
    "#increase font size of all elements\n",
    "sns.set(font_scale=1.5)\n"
   ]
  },
  {
   "attachments": {},
   "cell_type": "markdown",
   "metadata": {},
   "source": [
    "# Load the data"
   ]
  },
  {
   "cell_type": "code",
   "execution_count": 2,
   "metadata": {},
   "outputs": [
    {
     "name": "stdout",
     "output_type": "stream",
     "text": [
      "<class 'pandas.core.frame.DataFrame'>\n",
      "DatetimeIndex: 3036 entries, 2018-06-22 12:00:52 to 2022-01-31 07:08:40\n",
      "Data columns (total 18 columns):\n",
      " #   Column         Non-Null Count  Dtype  \n",
      "---  ------         --------------  -----  \n",
      " 0   Temp1          3036 non-null   float64\n",
      " 1   hum1           3036 non-null   float64\n",
      " 2   Pression       3036 non-null   float64\n",
      " 3   Temp2          3036 non-null   float64\n",
      " 4   hum2           3036 non-null   float64\n",
      " 5   Conc_Stand_1   3036 non-null   int64  \n",
      " 6   Conc_Stand_25  3036 non-null   int64  \n",
      " 7   Conc_Stand_10  3036 non-null   int64  \n",
      " 8   Conc_Env_1     3036 non-null   int64  \n",
      " 9   Conc_Env_25    3036 non-null   int64  \n",
      " 10  Conc_Env_10    3036 non-null   int64  \n",
      " 11  Part_03        3036 non-null   int64  \n",
      " 12  Part_05        3036 non-null   int64  \n",
      " 13  Part_1         3036 non-null   int64  \n",
      " 14  Part_25        3036 non-null   int64  \n",
      " 15  Part_5         3036 non-null   int64  \n",
      " 16  Part_50        3036 non-null   int64  \n",
      " 17  Lum            3036 non-null   int64  \n",
      "dtypes: float64(5), int64(13)\n",
      "memory usage: 450.7 KB\n"
     ]
    },
    {
     "data": {
      "text/plain": [
       "None"
      ]
     },
     "metadata": {},
     "output_type": "display_data"
    },
    {
     "data": {
      "text/html": [
       "<div>\n",
       "<style scoped>\n",
       "    .dataframe tbody tr th:only-of-type {\n",
       "        vertical-align: middle;\n",
       "    }\n",
       "\n",
       "    .dataframe tbody tr th {\n",
       "        vertical-align: top;\n",
       "    }\n",
       "\n",
       "    .dataframe thead th {\n",
       "        text-align: right;\n",
       "    }\n",
       "</style>\n",
       "<table border=\"1\" class=\"dataframe\">\n",
       "  <thead>\n",
       "    <tr style=\"text-align: right;\">\n",
       "      <th></th>\n",
       "      <th>Temp1</th>\n",
       "      <th>hum1</th>\n",
       "      <th>Pression</th>\n",
       "      <th>Temp2</th>\n",
       "      <th>hum2</th>\n",
       "      <th>Conc_Stand_1</th>\n",
       "      <th>Conc_Stand_25</th>\n",
       "      <th>Conc_Stand_10</th>\n",
       "      <th>Conc_Env_1</th>\n",
       "      <th>Conc_Env_25</th>\n",
       "      <th>Conc_Env_10</th>\n",
       "      <th>Part_03</th>\n",
       "      <th>Part_05</th>\n",
       "      <th>Part_1</th>\n",
       "      <th>Part_25</th>\n",
       "      <th>Part_5</th>\n",
       "      <th>Part_50</th>\n",
       "      <th>Lum</th>\n",
       "    </tr>\n",
       "    <tr>\n",
       "      <th>time</th>\n",
       "      <th></th>\n",
       "      <th></th>\n",
       "      <th></th>\n",
       "      <th></th>\n",
       "      <th></th>\n",
       "      <th></th>\n",
       "      <th></th>\n",
       "      <th></th>\n",
       "      <th></th>\n",
       "      <th></th>\n",
       "      <th></th>\n",
       "      <th></th>\n",
       "      <th></th>\n",
       "      <th></th>\n",
       "      <th></th>\n",
       "      <th></th>\n",
       "      <th></th>\n",
       "      <th></th>\n",
       "    </tr>\n",
       "  </thead>\n",
       "  <tbody>\n",
       "    <tr>\n",
       "      <th>2018-06-22 12:00:52</th>\n",
       "      <td>28.70</td>\n",
       "      <td>41.45</td>\n",
       "      <td>1011.88</td>\n",
       "      <td>29.07</td>\n",
       "      <td>50.52</td>\n",
       "      <td>6</td>\n",
       "      <td>10</td>\n",
       "      <td>22</td>\n",
       "      <td>6</td>\n",
       "      <td>10</td>\n",
       "      <td>22</td>\n",
       "      <td>0</td>\n",
       "      <td>0</td>\n",
       "      <td>0</td>\n",
       "      <td>0</td>\n",
       "      <td>0</td>\n",
       "      <td>0</td>\n",
       "      <td>51</td>\n",
       "    </tr>\n",
       "    <tr>\n",
       "      <th>2018-06-22 12:05:59</th>\n",
       "      <td>26.67</td>\n",
       "      <td>44.21</td>\n",
       "      <td>1011.90</td>\n",
       "      <td>26.63</td>\n",
       "      <td>53.92</td>\n",
       "      <td>6</td>\n",
       "      <td>9</td>\n",
       "      <td>9</td>\n",
       "      <td>6</td>\n",
       "      <td>9</td>\n",
       "      <td>9</td>\n",
       "      <td>1164</td>\n",
       "      <td>366</td>\n",
       "      <td>50</td>\n",
       "      <td>3</td>\n",
       "      <td>0</td>\n",
       "      <td>0</td>\n",
       "      <td>54</td>\n",
       "    </tr>\n",
       "    <tr>\n",
       "      <th>2018-06-22 12:11:05</th>\n",
       "      <td>25.63</td>\n",
       "      <td>46.44</td>\n",
       "      <td>1011.81</td>\n",
       "      <td>26.34</td>\n",
       "      <td>54.95</td>\n",
       "      <td>6</td>\n",
       "      <td>8</td>\n",
       "      <td>10</td>\n",
       "      <td>6</td>\n",
       "      <td>8</td>\n",
       "      <td>10</td>\n",
       "      <td>1164</td>\n",
       "      <td>340</td>\n",
       "      <td>37</td>\n",
       "      <td>5</td>\n",
       "      <td>2</td>\n",
       "      <td>0</td>\n",
       "      <td>22</td>\n",
       "    </tr>\n",
       "    <tr>\n",
       "      <th>2018-06-22 12:16:12</th>\n",
       "      <td>24.88</td>\n",
       "      <td>50.00</td>\n",
       "      <td>1011.77</td>\n",
       "      <td>26.07</td>\n",
       "      <td>57.26</td>\n",
       "      <td>7</td>\n",
       "      <td>8</td>\n",
       "      <td>9</td>\n",
       "      <td>7</td>\n",
       "      <td>8</td>\n",
       "      <td>9</td>\n",
       "      <td>1245</td>\n",
       "      <td>367</td>\n",
       "      <td>45</td>\n",
       "      <td>3</td>\n",
       "      <td>1</td>\n",
       "      <td>0</td>\n",
       "      <td>9</td>\n",
       "    </tr>\n",
       "    <tr>\n",
       "      <th>2018-06-22 12:21:19</th>\n",
       "      <td>24.95</td>\n",
       "      <td>49.12</td>\n",
       "      <td>1011.67</td>\n",
       "      <td>26.01</td>\n",
       "      <td>56.83</td>\n",
       "      <td>4</td>\n",
       "      <td>6</td>\n",
       "      <td>6</td>\n",
       "      <td>4</td>\n",
       "      <td>6</td>\n",
       "      <td>6</td>\n",
       "      <td>1182</td>\n",
       "      <td>332</td>\n",
       "      <td>28</td>\n",
       "      <td>2</td>\n",
       "      <td>0</td>\n",
       "      <td>0</td>\n",
       "      <td>11</td>\n",
       "    </tr>\n",
       "  </tbody>\n",
       "</table>\n",
       "</div>"
      ],
      "text/plain": [
       "                     Temp1   hum1  Pression  Temp2   hum2  Conc_Stand_1  \\\n",
       "time                                                                      \n",
       "2018-06-22 12:00:52  28.70  41.45   1011.88  29.07  50.52             6   \n",
       "2018-06-22 12:05:59  26.67  44.21   1011.90  26.63  53.92             6   \n",
       "2018-06-22 12:11:05  25.63  46.44   1011.81  26.34  54.95             6   \n",
       "2018-06-22 12:16:12  24.88  50.00   1011.77  26.07  57.26             7   \n",
       "2018-06-22 12:21:19  24.95  49.12   1011.67  26.01  56.83             4   \n",
       "\n",
       "                     Conc_Stand_25  Conc_Stand_10  Conc_Env_1  Conc_Env_25  \\\n",
       "time                                                                         \n",
       "2018-06-22 12:00:52             10             22           6           10   \n",
       "2018-06-22 12:05:59              9              9           6            9   \n",
       "2018-06-22 12:11:05              8             10           6            8   \n",
       "2018-06-22 12:16:12              8              9           7            8   \n",
       "2018-06-22 12:21:19              6              6           4            6   \n",
       "\n",
       "                     Conc_Env_10  Part_03  Part_05  Part_1  Part_25  Part_5  \\\n",
       "time                                                                          \n",
       "2018-06-22 12:00:52           22        0        0       0        0       0   \n",
       "2018-06-22 12:05:59            9     1164      366      50        3       0   \n",
       "2018-06-22 12:11:05           10     1164      340      37        5       2   \n",
       "2018-06-22 12:16:12            9     1245      367      45        3       1   \n",
       "2018-06-22 12:21:19            6     1182      332      28        2       0   \n",
       "\n",
       "                     Part_50  Lum  \n",
       "time                               \n",
       "2018-06-22 12:00:52        0   51  \n",
       "2018-06-22 12:05:59        0   54  \n",
       "2018-06-22 12:11:05        0   22  \n",
       "2018-06-22 12:16:12        0    9  \n",
       "2018-06-22 12:21:19        0   11  "
      ]
     },
     "metadata": {},
     "output_type": "display_data"
    }
   ],
   "source": [
    "# read csv file\n",
    "full_data = (pd.read_csv('data/donnee_Station_Meteo.csv', sep=';',\n",
    "                       index_col=1,\n",
    "                       parse_dates=[1])\n",
    "            .dropna(how='all')\n",
    "            .drop(columns=['id',' '])\n",
    "            )\n",
    "display(full_data.info())\n",
    "display(full_data.head())"
   ]
  },
  {
   "attachments": {},
   "cell_type": "markdown",
   "metadata": {},
   "source": [
    "# Select columns of interest"
   ]
  },
  {
   "cell_type": "code",
   "execution_count": 3,
   "metadata": {},
   "outputs": [],
   "source": []
  },
  {
   "attachments": {},
   "cell_type": "markdown",
   "metadata": {},
   "source": [
    "# Visualize data points"
   ]
  },
  {
   "cell_type": "code",
   "execution_count": null,
   "metadata": {},
   "outputs": [],
   "source": []
  },
  {
   "cell_type": "markdown",
   "metadata": {},
   "source": [
    "# Plot histograms\n"
   ]
  },
  {
   "cell_type": "code",
   "execution_count": null,
   "metadata": {},
   "outputs": [],
   "source": []
  },
  {
   "attachments": {},
   "cell_type": "markdown",
   "metadata": {},
   "source": [
    "# Print basic statistics wtih `describe`\n"
   ]
  },
  {
   "cell_type": "code",
   "execution_count": null,
   "metadata": {},
   "outputs": [],
   "source": []
  },
  {
   "cell_type": "markdown",
   "metadata": {},
   "source": [
    "# Plot box-plots\n"
   ]
  },
  {
   "attachments": {},
   "cell_type": "markdown",
   "metadata": {},
   "source": [
    "### Cut-out at +- 1.5 IQR"
   ]
  },
  {
   "cell_type": "code",
   "execution_count": null,
   "metadata": {},
   "outputs": [],
   "source": []
  },
  {
   "attachments": {},
   "cell_type": "markdown",
   "metadata": {},
   "source": [
    "### Cut-out at 5%/95%"
   ]
  },
  {
   "cell_type": "code",
   "execution_count": null,
   "metadata": {},
   "outputs": [],
   "source": []
  },
  {
   "attachments": {},
   "cell_type": "markdown",
   "metadata": {},
   "source": [
    "### Cut-out at 1%/99%"
   ]
  },
  {
   "cell_type": "code",
   "execution_count": null,
   "metadata": {},
   "outputs": [],
   "source": []
  },
  {
   "attachments": {},
   "cell_type": "markdown",
   "metadata": {},
   "source": [
    "### Cut-out at 0.5%/99.5%"
   ]
  },
  {
   "cell_type": "code",
   "execution_count": null,
   "metadata": {},
   "outputs": [],
   "source": []
  },
  {
   "attachments": {},
   "cell_type": "markdown",
   "metadata": {},
   "source": [
    "# Use a simple method to remove outliers"
   ]
  },
  {
   "cell_type": "code",
   "execution_count": 11,
   "metadata": {},
   "outputs": [],
   "source": []
  },
  {
   "attachments": {},
   "cell_type": "markdown",
   "metadata": {},
   "source": [
    "# Plot column correlation with outliers"
   ]
  },
  {
   "cell_type": "code",
   "execution_count": null,
   "metadata": {},
   "outputs": [],
   "source": []
  },
  {
   "attachments": {},
   "cell_type": "markdown",
   "metadata": {},
   "source": [
    "# Plot column correlation after removing outliers"
   ]
  },
  {
   "cell_type": "code",
   "execution_count": null,
   "metadata": {},
   "outputs": [],
   "source": []
  }
 ],
 "metadata": {
  "kernelspec": {
   "display_name": "ml-latest",
   "language": "python",
   "name": "python3"
  },
  "language_info": {
   "codemirror_mode": {
    "name": "ipython",
    "version": 3
   },
   "file_extension": ".py",
   "mimetype": "text/x-python",
   "name": "python",
   "nbconvert_exporter": "python",
   "pygments_lexer": "ipython3",
   "version": "3.10.5"
  },
  "orig_nbformat": 4,
  "vscode": {
   "interpreter": {
    "hash": "1bede9cc09fadb76754e231ea17b3d1b4d36d88785eed308e26382b97c73c356"
   }
  }
 },
 "nbformat": 4,
 "nbformat_minor": 2
}
