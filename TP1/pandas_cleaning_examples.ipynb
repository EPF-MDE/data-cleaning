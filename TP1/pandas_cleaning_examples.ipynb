{
 "cells": [
  {
   "cell_type": "markdown",
   "metadata": {},
   "source": [
    "# Pandas functions useful for formating and sanitizing"
   ]
  },
  {
   "cell_type": "markdown",
   "metadata": {},
   "source": [
    "# Imports"
   ]
  },
  {
   "cell_type": "code",
   "execution_count": 49,
   "metadata": {},
   "outputs": [],
   "source": [
    "import numpy as np\n",
    "import pandas as pd\n",
    "\n",
    "import matplotlib.pyplot as plt\n"
   ]
  },
  {
   "cell_type": "code",
   "execution_count": 50,
   "metadata": {},
   "outputs": [],
   "source": [
    "pd.set_option('display.max_rows', 20)\n",
    "pd.set_option('display.max_columns', 51)\n",
    "pd.set_option('display.width', 1000)"
   ]
  },
  {
   "cell_type": "markdown",
   "metadata": {},
   "source": [
    "# (Down)Load data"
   ]
  },
  {
   "cell_type": "code",
   "execution_count": 51,
   "metadata": {},
   "outputs": [],
   "source": [
    "from loader import download_data\n",
    "url_mtp = \"https://data.montpellier3m.fr/sites/default/files/ressources/MMM_MMM_DAE.csv\"\n",
    "\n",
    "\n",
    "data = download_data(url_mtp)"
   ]
  },
  {
   "attachments": {},
   "cell_type": "markdown",
   "metadata": {},
   "source": [
    "# Using string dtype instead of object\n",
    "\n",
    "Check [\"Working with text data\"](https://pandas.pydata.org/docs/user_guide/text.html)"
   ]
  },
  {
   "cell_type": "code",
   "execution_count": 52,
   "metadata": {},
   "outputs": [
    {
     "data": {
      "text/plain": [
       "0      Plateau sportif de GrammontTerrain 9, 10, 11\n",
       "1                 MEDIATHEQUE JEAN-JACQUES ROUSSEAU\n",
       "2                   MEDIATHEQUE William SHAKESPEARE\n",
       "3                                              MIBI\n",
       "4                     MAISON POUR TOUS LEO LAGRANGE\n",
       "                           ...                     \n",
       "270                                  Zoo de Lunaret\n",
       "271                              Gymnase Jean Bouin\n",
       "272                        Centre Culturel Rabelais\n",
       "273                                                \n",
       "274                  Maison pour tous André Chamson\n",
       "Name: nom, Length: 275, dtype: string"
      ]
     },
     "execution_count": 52,
     "metadata": {},
     "output_type": "execute_result"
    }
   ],
   "source": [
    "data.nom.astype(\"string\")"
   ]
  },
  {
   "attachments": {},
   "cell_type": "markdown",
   "metadata": {},
   "source": [
    "# Convert text to numeric\n",
    "If you have numeric data strored as strings, you can convert them using [`pd.to_numeric`](https://pandas.pydata.org/docs/reference/api/pandas.to_numeric.html).\n",
    "If you use `errors='coerce'`, strings that cannot be converted get replaced with `NaN`."
   ]
  },
  {
   "cell_type": "code",
   "execution_count": 53,
   "metadata": {},
   "outputs": [
    {
     "data": {
      "text/plain": [
       "0      3.933921\n",
       "1           NaN\n",
       "2           NaN\n",
       "3           NaN\n",
       "4           NaN\n",
       "         ...   \n",
       "270    3.873468\n",
       "271    3.820819\n",
       "272    3.880320\n",
       "273    3.869822\n",
       "274    3.835223\n",
       "Name: lat_coor1, Length: 275, dtype: float64"
      ]
     },
     "execution_count": 53,
     "metadata": {},
     "output_type": "execute_result"
    }
   ],
   "source": [
    "pd.to_numeric(data['lat_coor1'], errors='coerce').astype('float')"
   ]
  },
  {
   "cell_type": "code",
   "execution_count": 54,
   "metadata": {},
   "outputs": [
    {
     "data": {
      "text/plain": [
       "0      43.613635\n",
       "1            NaN\n",
       "2            NaN\n",
       "3            NaN\n",
       "4            NaN\n",
       "         ...    \n",
       "270    43.640944\n",
       "271    43.632788\n",
       "272    43.610690\n",
       "273    43.612784\n",
       "274    43.609273\n",
       "Name: long_coor1, Length: 275, dtype: float64"
      ]
     },
     "execution_count": 54,
     "metadata": {},
     "output_type": "execute_result"
    }
   ],
   "source": [
    "pd.to_numeric(data['long_coor1'], errors='coerce')"
   ]
  },
  {
   "cell_type": "code",
   "execution_count": 55,
   "metadata": {},
   "outputs": [
    {
     "name": "stdout",
     "output_type": "stream",
     "text": [
      "<class 'pandas.core.frame.DataFrame'>\n",
      "RangeIndex: 6 entries, 0 to 5\n",
      "Data columns (total 1 columns):\n",
      " #   Column  Non-Null Count  Dtype \n",
      "---  ------  --------------  ----- \n",
      " 0   nom     6 non-null      string\n",
      "dtypes: string(1)\n",
      "memory usage: 176.0 bytes\n"
     ]
    }
   ],
   "source": [
    "pd.DataFrame(\n",
    "    {'nom':pd.Series(['Noom A',\n",
    "        'NOM B', \n",
    "        'Dept machin truc', \n",
    "        'Resto U',\n",
    "        'Univ M', \n",
    "        'CPAM'],\n",
    "        dtype='string')\n",
    "    }\n",
    ").info()"
   ]
  },
  {
   "attachments": {},
   "cell_type": "markdown",
   "metadata": {},
   "source": [
    "# Convert text to Datetime\n",
    "Dates and times have a specific data type in pandas. You can convert strings to this type using [`pd.to_datetime`](https://pandas.pydata.org/docs/reference/api/pandas.to_datetime.html). \n",
    "If you use `errors='coerce'`, strings that cannot be converted get replaced with `NaT`.\n",
    "Here is an example:"
   ]
  },
  {
   "cell_type": "code",
   "execution_count": 56,
   "metadata": {},
   "outputs": [
    {
     "data": {
      "text/plain": [
       "0     2019-05-15\n",
       "1            NaT\n",
       "2            NaT\n",
       "3            NaT\n",
       "4     2020-10-06\n",
       "         ...    \n",
       "270   2019-05-14\n",
       "271   2019-11-01\n",
       "272          NaT\n",
       "273          NaT\n",
       "274   2019-12-01\n",
       "Name: dermnt, Length: 275, dtype: datetime64[ns]"
      ]
     },
     "execution_count": 56,
     "metadata": {},
     "output_type": "execute_result"
    }
   ],
   "source": [
    "pd.to_datetime(\n",
    "    data.dermnt, \n",
    "    errors='coerce',\n",
    "    format='%Y-%m-%d')"
   ]
  },
  {
   "attachments": {},
   "cell_type": "markdown",
   "metadata": {},
   "source": [
    "# Reformat a string using regular expressions\n",
    "\n",
    "This example shows how to use regular expressions and the `str` functions  to reformat a string. We'll use phone numbers as an example:\n",
    "This expression matches mutiple phone number formats and extracts figure pairs for formatting. "
   ]
  },
  {
   "cell_type": "code",
   "execution_count": 57,
   "metadata": {},
   "outputs": [
    {
     "data": {
      "text/html": [
       "<div>\n",
       "<style scoped>\n",
       "    .dataframe tbody tr th:only-of-type {\n",
       "        vertical-align: middle;\n",
       "    }\n",
       "\n",
       "    .dataframe tbody tr th {\n",
       "        vertical-align: top;\n",
       "    }\n",
       "\n",
       "    .dataframe thead th {\n",
       "        text-align: right;\n",
       "    }\n",
       "</style>\n",
       "<table border=\"1\" class=\"dataframe\">\n",
       "  <thead>\n",
       "    <tr style=\"text-align: right;\">\n",
       "      <th></th>\n",
       "      <th>0</th>\n",
       "      <th>1</th>\n",
       "      <th>2</th>\n",
       "      <th>3</th>\n",
       "      <th>4</th>\n",
       "    </tr>\n",
       "  </thead>\n",
       "  <tbody>\n",
       "    <tr>\n",
       "      <th>0</th>\n",
       "      <td>4</td>\n",
       "      <td>67</td>\n",
       "      <td>64</td>\n",
       "      <td>87</td>\n",
       "      <td>70</td>\n",
       "    </tr>\n",
       "    <tr>\n",
       "      <th>1</th>\n",
       "      <td>NaN</td>\n",
       "      <td>NaN</td>\n",
       "      <td>NaN</td>\n",
       "      <td>NaN</td>\n",
       "      <td>NaN</td>\n",
       "    </tr>\n",
       "    <tr>\n",
       "      <th>2</th>\n",
       "      <td>NaN</td>\n",
       "      <td>NaN</td>\n",
       "      <td>NaN</td>\n",
       "      <td>NaN</td>\n",
       "      <td>NaN</td>\n",
       "    </tr>\n",
       "    <tr>\n",
       "      <th>3</th>\n",
       "      <td>NaN</td>\n",
       "      <td>NaN</td>\n",
       "      <td>NaN</td>\n",
       "      <td>NaN</td>\n",
       "      <td>NaN</td>\n",
       "    </tr>\n",
       "    <tr>\n",
       "      <th>4</th>\n",
       "      <td>4</td>\n",
       "      <td>67</td>\n",
       "      <td>40</td>\n",
       "      <td>33</td>\n",
       "      <td>57</td>\n",
       "    </tr>\n",
       "    <tr>\n",
       "      <th>...</th>\n",
       "      <td>...</td>\n",
       "      <td>...</td>\n",
       "      <td>...</td>\n",
       "      <td>...</td>\n",
       "      <td>...</td>\n",
       "    </tr>\n",
       "    <tr>\n",
       "      <th>270</th>\n",
       "      <td>4</td>\n",
       "      <td>67</td>\n",
       "      <td>54</td>\n",
       "      <td>45</td>\n",
       "      <td>20</td>\n",
       "    </tr>\n",
       "    <tr>\n",
       "      <th>271</th>\n",
       "      <td>4</td>\n",
       "      <td>67</td>\n",
       "      <td>75</td>\n",
       "      <td>44</td>\n",
       "      <td>43</td>\n",
       "    </tr>\n",
       "    <tr>\n",
       "      <th>272</th>\n",
       "      <td>4</td>\n",
       "      <td>67</td>\n",
       "      <td>34</td>\n",
       "      <td>71</td>\n",
       "      <td>33</td>\n",
       "    </tr>\n",
       "    <tr>\n",
       "      <th>273</th>\n",
       "      <td>NaN</td>\n",
       "      <td>NaN</td>\n",
       "      <td>NaN</td>\n",
       "      <td>NaN</td>\n",
       "      <td>NaN</td>\n",
       "    </tr>\n",
       "    <tr>\n",
       "      <th>274</th>\n",
       "      <td>4</td>\n",
       "      <td>67</td>\n",
       "      <td>75</td>\n",
       "      <td>10</td>\n",
       "      <td>55</td>\n",
       "    </tr>\n",
       "  </tbody>\n",
       "</table>\n",
       "<p>275 rows × 5 columns</p>\n",
       "</div>"
      ],
      "text/plain": [
       "       0    1    2    3    4\n",
       "0      4   67   64   87   70\n",
       "1    NaN  NaN  NaN  NaN  NaN\n",
       "2    NaN  NaN  NaN  NaN  NaN\n",
       "3    NaN  NaN  NaN  NaN  NaN\n",
       "4      4   67   40   33   57\n",
       "..   ...  ...  ...  ...  ...\n",
       "270    4   67   54   45   20\n",
       "271    4   67   75   44   43\n",
       "272    4   67   34   71   33\n",
       "273  NaN  NaN  NaN  NaN  NaN\n",
       "274    4   67   75   10   55\n",
       "\n",
       "[275 rows x 5 columns]"
      ]
     },
     "execution_count": 57,
     "metadata": {},
     "output_type": "execute_result"
    }
   ],
   "source": [
    "extraction = data.tel1.str.extract(\n",
    "        pat=r\"\\+*(?:33)0*(\\d)\\s*(\\d\\d)\\s*(\\d\\d)\\s*(\\d\\d)\\s*(\\d\\d)\",\n",
    "        expand=True\n",
    "    )\n",
    "extraction"
   ]
  },
  {
   "cell_type": "markdown",
   "metadata": {},
   "source": [
    "A zero can be added to the begining of all numbers"
   ]
  },
  {
   "cell_type": "code",
   "execution_count": 58,
   "metadata": {},
   "outputs": [
    {
     "data": {
      "text/plain": [
       "0       04\n",
       "1      NaN\n",
       "2      NaN\n",
       "3      NaN\n",
       "4       04\n",
       "      ... \n",
       "270     04\n",
       "271     04\n",
       "272     04\n",
       "273    NaN\n",
       "274     04\n",
       "Name: 0, Length: 275, dtype: object"
      ]
     },
     "execution_count": 58,
     "metadata": {},
     "output_type": "execute_result"
    }
   ],
   "source": [
    "'0'+ extraction[0]"
   ]
  },
  {
   "attachments": {},
   "cell_type": "markdown",
   "metadata": {},
   "source": [
    "Figure pairs can be joined in a phone number using `str.cat` to concatenate:"
   ]
  },
  {
   "cell_type": "code",
   "execution_count": 59,
   "metadata": {},
   "outputs": [
    {
     "data": {
      "text/plain": [
       "0      0467648770\n",
       "1             NaN\n",
       "2             NaN\n",
       "3             NaN\n",
       "4      0467403357\n",
       "          ...    \n",
       "270    0467544520\n",
       "271    0467754443\n",
       "272    0467347133\n",
       "273           NaN\n",
       "274    0467751055\n",
       "Name: 0, Length: 275, dtype: object"
      ]
     },
     "execution_count": 59,
     "metadata": {},
     "output_type": "execute_result"
    }
   ],
   "source": [
    "\"0\" + extraction[0].str.cat(\n",
    "    extraction[[i for i in range(1,5)]]\n",
    "    )"
   ]
  },
  {
   "attachments": {},
   "cell_type": "markdown",
   "metadata": {},
   "source": [
    "`str.cat` also supports including a separator:"
   ]
  },
  {
   "cell_type": "code",
   "execution_count": 60,
   "metadata": {},
   "outputs": [
    {
     "data": {
      "text/plain": [
       "0      04.67.64.87.70\n",
       "1                 NaN\n",
       "2                 NaN\n",
       "3                 NaN\n",
       "4      04.67.40.33.57\n",
       "            ...      \n",
       "270    04.67.54.45.20\n",
       "271    04.67.75.44.43\n",
       "272    04.67.34.71.33\n",
       "273               NaN\n",
       "274    04.67.75.10.55\n",
       "Name: 0, Length: 275, dtype: object"
      ]
     },
     "execution_count": 60,
     "metadata": {},
     "output_type": "execute_result"
    }
   ],
   "source": [
    "\"0\" + extraction[0].str.cat(\n",
    "    extraction[[1, 2, 3, 4]],\n",
    "    sep='.'\n",
    "    )"
   ]
  },
  {
   "attachments": {},
   "cell_type": "markdown",
   "metadata": {},
   "source": [
    "# Replace NA placeholders for pd.NA\n",
    "In this example, missing phonenumbers marked with a dash get replaced by true NAs"
   ]
  },
  {
   "cell_type": "code",
   "execution_count": 61,
   "metadata": {},
   "outputs": [
    {
     "data": {
      "text/plain": [
       "45    -\n",
       "69    -\n",
       "70    -\n",
       "Name: tel1, dtype: object"
      ]
     },
     "execution_count": 61,
     "metadata": {},
     "output_type": "execute_result"
    }
   ],
   "source": [
    "have_dash = data.tel1 == '-'\n",
    "data.tel1[have_dash]"
   ]
  },
  {
   "attachments": {},
   "cell_type": "markdown",
   "metadata": {},
   "source": [
    "These do not get recognized as missing by pandas:"
   ]
  },
  {
   "cell_type": "code",
   "execution_count": 62,
   "metadata": {},
   "outputs": [
    {
     "data": {
      "text/plain": [
       "45    False\n",
       "69    False\n",
       "70    False\n",
       "Name: tel1, dtype: bool"
      ]
     },
     "execution_count": 62,
     "metadata": {},
     "output_type": "execute_result"
    }
   ],
   "source": [
    "data.tel1[have_dash].isna()"
   ]
  },
  {
   "attachments": {},
   "cell_type": "markdown",
   "metadata": {},
   "source": [
    "You can mark them as missing using:"
   ]
  },
  {
   "cell_type": "code",
   "execution_count": 63,
   "metadata": {},
   "outputs": [
    {
     "data": {
      "text/plain": [
       "45    <NA>\n",
       "69    <NA>\n",
       "70    <NA>\n",
       "Name: tel1, dtype: object"
      ]
     },
     "execution_count": 63,
     "metadata": {},
     "output_type": "execute_result"
    }
   ],
   "source": [
    "data.loc[have_dash,'tel1'] = pd.NA\n",
    "\n",
    "data.tel1[have_dash]"
   ]
  },
  {
   "cell_type": "code",
   "execution_count": 64,
   "metadata": {},
   "outputs": [
    {
     "data": {
      "text/plain": [
       "45    True\n",
       "69    True\n",
       "70    True\n",
       "Name: tel1, dtype: bool"
      ]
     },
     "execution_count": 64,
     "metadata": {},
     "output_type": "execute_result"
    }
   ],
   "source": [
    "data.tel1[have_dash].isna()"
   ]
  },
  {
   "attachments": {},
   "cell_type": "markdown",
   "metadata": {},
   "source": [
    "Note that an empty string is not considered na by pandas."
   ]
  },
  {
   "cell_type": "code",
   "execution_count": 65,
   "metadata": {},
   "outputs": [
    {
     "data": {
      "text/plain": [
       "45    False\n",
       "69    False\n",
       "70    False\n",
       "Name: tel1, dtype: bool"
      ]
     },
     "execution_count": 65,
     "metadata": {},
     "output_type": "execute_result"
    }
   ],
   "source": [
    "data.loc[have_dash, 'tel1'].fillna('').isna()"
   ]
  }
 ],
 "metadata": {
  "kernelspec": {
   "display_name": "ml-latest",
   "language": "python",
   "name": "python3"
  },
  "language_info": {
   "codemirror_mode": {
    "name": "ipython",
    "version": 3
   },
   "file_extension": ".py",
   "mimetype": "text/x-python",
   "name": "python",
   "nbconvert_exporter": "python",
   "pygments_lexer": "ipython3",
   "version": "3.10.5"
  },
  "orig_nbformat": 4
 },
 "nbformat": 4,
 "nbformat_minor": 2
}
