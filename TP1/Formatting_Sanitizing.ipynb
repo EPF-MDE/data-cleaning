{
 "cells": [
  {
   "attachments": {},
   "cell_type": "markdown",
   "metadata": {},
   "source": [
    "# TP 1 : Formatting and Sanitizing\n",
    "\n",
    "For this first practical assignemnt, we'll be working with data from Montpleier metropole. You will be downloading the raw \"Defibrilators of Montpellier\" dataset (the one you've played with in CodinGame) and will write a loader script that cleans and loads a sane dataframe.\n",
    "\n",
    "To build it, you will proceed with the following steps: \n",
    "1. Problem specification\n",
    "2. Definition of Done\n",
    "3. Implementation of the cleaning functions\n",
    "\n",
    "## Technical requisites\n",
    "Throughout this assigment you'll use mutiple pandas functionalities such as:\n",
    "- drop useless columns\n",
    "- convert string types to numeric or datetime types\n",
    "- manipulating stirngs with `.str` (aka the string accessor)\n",
    "- checking strings for patterns using regular expressions\n",
    "\n",
    "To learn how to do this in Pandas, you may reffer to the following documents:\n",
    "- [\"Pythonic Data Cleaning With pandas and NumPy\",  by Malay Agarwal at RealPython.com](https://realpython.com/python-data-cleaning-numpy-pandas/)\n",
    "- [\"Working with text data\", at pandas docs](https://pandas.pydata.org/docs/user_guide/text.html#)\n",
    "- [\"Time series / date functionality\", at pandas docs](https://pandas.pydata.org/docs/user_guide/timeseries.html)\n",
    "\n",
    "## Problem specification\n",
    "\n",
    "1. Select a handful of examples from your data that cover the problems you have identified\n",
    "2. With these examples, compose a sample dirty dataframe (`sample_dirty`)\n",
    "3. Manually compose an equivalent dataframe where all the formatting problems in the first one got fixed (`sample_formatted`)\n",
    "4. Manually compose an equivalent dataframe where all the sanity problems in the second one got fixed (`sample_sane`)\n",
    "\n",
    "## Definition of DONE\n",
    "Prepare some tests that ensure that your cleaning function works as expected:\n",
    "1. You have a formatting function that verifies\n",
    "`format_dataframe(sample_dirty).equals(sample_formatted)`\n",
    "2. You have a sanitizing function that verifies \n",
    "`sanitize_dataframe(sample_formatted).equals(sample_sane)`\n",
    "3. You have a loading function that verifies\n",
    "`load_clean_dataframe(sample_dirty).equals(sample_sane)`\n",
    "\n",
    "## Implementation of the cleaning functions\n",
    "Your loading function should be in a file `loader.py`. It should be composed of smaller formatting and sanitizing functions. For example:\n",
    "```python\n",
    "\n",
    "def format_dataframe(df:pd.DataFrame) -> pd.DataFrame:\n",
    "    \"\"\" One function to do all formatting\"\"\"\n",
    "    df = (df.pipe(format_adr_num)\n",
    "            .pipe(format_adr_voie)\n",
    "            .pipe(fonrmat_com_cp)\n",
    "            .pipe(format_com_nom)\n",
    "            # ... add others (or remove) if necessary\n",
    "          )\n",
    "    return df\n",
    "\n",
    "def sanitize_dataframe(df:pd.DataFrame) -> pd.DataFrame:\n",
    "    \"\"\" One function to do all sanitizing\"\"\"\n",
    "    df = (df.pipe(sanitize_adr_num)\n",
    "            .pipe(sanitize_adr_voie)\n",
    "            .pipe(sanitize_com_cp)\n",
    "            .pipe(sanitize_com_nom)\n",
    "            # ... add others (or remove) if necessary\n",
    "          )\n",
    "    return df\n",
    "\n",
    "def load_clean_dataframe(df:pd.DataFrame)-> pd.DataFrame:\n",
    "    \"\"\"one function to run it all and return a clean dataframe\"\"\"\n",
    "    df = (df.pipe(format_dataframe)\n",
    "          .pipe(sanitize_dataframe)\n",
    "    )\n",
    "    return df\n",
    "```\n",
    "- This notebook can be used as a sandbox for you to explore the data and identify formating and sanitizing problems.\n",
    "- You may also use it to compose the sample dataframes and test if the cleaning function output matches the expected result.\n",
    "- As you validate your methods, create the corresponding function in `loader.py`\n",
    "- Once your script is ready, you can import the loading function and use it to load a clean dataframe.\n"
   ]
  },
  {
   "attachments": {},
   "cell_type": "markdown",
   "metadata": {},
   "source": [
    "# Exploration space\n",
    "## Imports"
   ]
  },
  {
   "cell_type": "code",
   "execution_count": null,
   "metadata": {},
   "outputs": [],
   "source": [
    "import numpy as np\n",
    "import pandas as pd\n",
    "\n",
    "import matplotlib.pyplot as plt\n"
   ]
  },
  {
   "cell_type": "code",
   "execution_count": null,
   "metadata": {},
   "outputs": [],
   "source": [
    "pd.set_option('display.max_rows', 20)\n",
    "pd.set_option('display.max_columns', 51)\n",
    "pd.set_option('display.width', 1000)"
   ]
  },
  {
   "attachments": {},
   "cell_type": "markdown",
   "metadata": {},
   "source": [
    "## (Down)Load data"
   ]
  },
  {
   "cell_type": "code",
   "execution_count": null,
   "metadata": {},
   "outputs": [],
   "source": [
    "\n",
    "from loader import download_data\n",
    "url_mtp = \"https://data.montpellier3m.fr/sites/default/files/ressources/MMM_MMM_DAE.csv\"\n",
    "\n",
    "\n",
    "data = download_data(url_mtp)"
   ]
  },
  {
   "attachments": {},
   "cell_type": "markdown",
   "metadata": {},
   "source": [
    "## Drop empty columns"
   ]
  },
  {
   "cell_type": "code",
   "execution_count": null,
   "metadata": {},
   "outputs": [],
   "source": [
    "data.dropna(\n",
    "    axis='columns',\n",
    "    how='all',\n",
    "    inplace=True)\n",
    "data"
   ]
  },
  {
   "attachments": {},
   "cell_type": "markdown",
   "metadata": {},
   "source": [
    "## Keeping only columns of interest\n",
    "\n",
    "We want to build a new dataframe containing:\n",
    "- ID (the dataframe's index)\n",
    "- Name\n",
    "- Adress (including postal code (com_cp) and city name (com_nom))\n",
    "- Contact phone number\n",
    "- Maintenance frequency\n",
    "- Latest maintenance date\n",
    "- Longitude\n",
    "- Latitude"
   ]
  },
  {
   "cell_type": "code",
   "execution_count": null,
   "metadata": {},
   "outputs": [],
   "source": [
    "kept_columns = [\n",
    "    'nom', 'adr_num','adr_voie',\n",
    "    'com_cp', 'com_nom', \n",
    "    'tel1',\n",
    "    'freq_mnt', 'dermnt',\n",
    "    'lat_coor1', 'long_coor1']\n",
    "data_filter = data.filter(items=kept_columns)\n",
    "data_filter\n"
   ]
  },
  {
   "cell_type": "code",
   "execution_count": null,
   "metadata": {},
   "outputs": [],
   "source": [
    "data_filter.info()"
   ]
  },
  {
   "attachments": {},
   "cell_type": "markdown",
   "metadata": {},
   "source": [
    "## Extract problematic cases to specify cleaning functions\n",
    "\n",
    "Use this space to explore the dataframe and identify problems in formatting and sanitizing. Save the indexes of interesting problematic cases in the following set `idx_problem_cases`, as you expore the data.\n",
    "\n",
    "For instance, if you identify examples 3 and 45 to be dirty, add them to the set with:\n",
    "`idx_problem_cases.update([3, 45])`"
   ]
  },
  {
   "cell_type": "code",
   "execution_count": null,
   "metadata": {},
   "outputs": [],
   "source": [
    "idx_problem_cases = set()"
   ]
  },
  {
   "attachments": {},
   "cell_type": "markdown",
   "metadata": {},
   "source": [
    "### Address data"
   ]
  },
  {
   "cell_type": "code",
   "execution_count": null,
   "metadata": {},
   "outputs": [],
   "source": [
    "data_filter.filter(regex=r\"adr_|com_\")"
   ]
  },
  {
   "attachments": {},
   "cell_type": "markdown",
   "metadata": {},
   "source": [
    "#### adr_num field"
   ]
  },
  {
   "cell_type": "code",
   "execution_count": null,
   "metadata": {},
   "outputs": [],
   "source": [
    "data_filter.adr_num"
   ]
  },
  {
   "attachments": {},
   "cell_type": "markdown",
   "metadata": {},
   "source": [
    "#### adr_voie field"
   ]
  },
  {
   "cell_type": "code",
   "execution_count": null,
   "metadata": {},
   "outputs": [],
   "source": [
    "data_filter.adr_voie"
   ]
  },
  {
   "attachments": {},
   "cell_type": "markdown",
   "metadata": {},
   "source": [
    "#### com_cp field"
   ]
  },
  {
   "cell_type": "code",
   "execution_count": null,
   "metadata": {},
   "outputs": [],
   "source": [
    "data_filter.com_cp"
   ]
  },
  {
   "attachments": {},
   "cell_type": "markdown",
   "metadata": {},
   "source": [
    "#### com_nom field"
   ]
  },
  {
   "cell_type": "code",
   "execution_count": null,
   "metadata": {},
   "outputs": [],
   "source": [
    "data_filter.com_nom"
   ]
  },
  {
   "attachments": {},
   "cell_type": "markdown",
   "metadata": {},
   "source": [
    "### Contact info"
   ]
  },
  {
   "cell_type": "code",
   "execution_count": null,
   "metadata": {},
   "outputs": [],
   "source": [
    "data_filter.tel1"
   ]
  },
  {
   "attachments": {},
   "cell_type": "markdown",
   "metadata": {},
   "source": [
    "### Latest maintenance date"
   ]
  },
  {
   "attachments": {},
   "cell_type": "markdown",
   "metadata": {},
   "source": [
    "date_filter.dermnt"
   ]
  },
  {
   "attachments": {},
   "cell_type": "markdown",
   "metadata": {},
   "source": [
    "### Latitude and longitude"
   ]
  },
  {
   "cell_type": "code",
   "execution_count": null,
   "metadata": {},
   "outputs": [],
   "source": [
    "data_filter.filter(regex=r\"_coor\")"
   ]
  },
  {
   "attachments": {},
   "cell_type": "markdown",
   "metadata": {},
   "source": [
    "## Review selected cases and save as sample dirty data"
   ]
  },
  {
   "cell_type": "code",
   "execution_count": null,
   "metadata": {},
   "outputs": [],
   "source": [
    "sample_dirty = data_filter.loc[list(idx_problem_cases)]\n",
    "sample_dirty"
   ]
  },
  {
   "cell_type": "code",
   "execution_count": null,
   "metadata": {},
   "outputs": [],
   "source": [
    "sample_dirty.to_csv('data/sample_dirty.csv')"
   ]
  },
  {
   "attachments": {},
   "cell_type": "markdown",
   "metadata": {},
   "source": [
    "# Creating test target dataframes"
   ]
  },
  {
   "attachments": {},
   "cell_type": "markdown",
   "metadata": {},
   "source": [
    "## Create sample_formatted from sample_dirty\n"
   ]
  },
  {
   "cell_type": "code",
   "execution_count": null,
   "metadata": {},
   "outputs": [],
   "source": [
    "sample_formatted = ...\n",
    "\n",
    "sample_formatted.info()"
   ]
  },
  {
   "attachments": {},
   "cell_type": "markdown",
   "metadata": {},
   "source": [
    "sample_formatted"
   ]
  },
  {
   "attachments": {},
   "cell_type": "markdown",
   "metadata": {},
   "source": [
    "## Create sample_sane from sample_formatted\n"
   ]
  },
  {
   "cell_type": "code",
   "execution_count": null,
   "metadata": {},
   "outputs": [],
   "source": [
    "sample_sane = ...\n",
    "\n",
    "\n",
    "sample_sane.info()"
   ]
  },
  {
   "cell_type": "code",
   "execution_count": null,
   "metadata": {},
   "outputs": [],
   "source": [
    "sample_sane"
   ]
  },
  {
   "attachments": {},
   "cell_type": "markdown",
   "metadata": {},
   "source": [
    "# TEST: Compare dataframe after cleaning to sample_sane"
   ]
  },
  {
   "cell_type": "code",
   "execution_count": null,
   "metadata": {},
   "outputs": [],
   "source": [
    "from loader import load_clean_dataframe\n",
    "\n",
    "loaded_data = load_clean_dataframe(sample_dirty)\n",
    "\n",
    "loaded_data.equals(sample_sane)"
   ]
  }
 ],
 "metadata": {
  "kernelspec": {
   "display_name": "ml-latest",
   "language": "python",
   "name": "python3"
  },
  "language_info": {
   "codemirror_mode": {
    "name": "ipython",
    "version": 3
   },
   "file_extension": ".py",
   "mimetype": "text/x-python",
   "name": "python",
   "nbconvert_exporter": "python",
   "pygments_lexer": "ipython3",
   "version": "3.10.5"
  },
  "orig_nbformat": 4
 },
 "nbformat": 4,
 "nbformat_minor": 2
}
