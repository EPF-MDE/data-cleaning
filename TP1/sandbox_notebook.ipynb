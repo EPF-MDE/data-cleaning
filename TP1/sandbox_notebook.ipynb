{
 "cells": [
  {
   "cell_type": "markdown",
   "metadata": {},
   "source": [
    "# TP1 Sandbox\n",
    "- This notebook can be used as a sandbox for you to explore the data and identify formating and sanitizing problems.\n",
    "- You may also use it to compose the sample dataframes and test if the cleaning function output matches the expected result.\n",
    "- As you validate your methods, create the corresponding function in `loader.py`\n",
    "- Once your script is ready, you can import the loading function and use it to load a clean dataframe."
   ]
  },
  {
   "cell_type": "markdown",
   "metadata": {},
   "source": [
    "# Exploration space\n",
    "## Imports"
   ]
  },
  {
   "cell_type": "code",
   "execution_count": null,
   "metadata": {},
   "outputs": [],
   "source": [
    "import numpy as np\n",
    "import pandas as pd\n",
    "\n",
    "import matplotlib.pyplot as plt\n"
   ]
  },
  {
   "cell_type": "code",
   "execution_count": null,
   "metadata": {},
   "outputs": [],
   "source": [
    "pd.set_option('display.max_rows', 20)\n",
    "pd.set_option('display.max_columns', 51)\n",
    "pd.set_option('display.width', 1000)"
   ]
  },
  {
   "cell_type": "markdown",
   "metadata": {},
   "source": [
    "## (Down)Load data"
   ]
  },
  {
   "cell_type": "code",
   "execution_count": null,
   "metadata": {},
   "outputs": [],
   "source": [
    "\n",
    "from loader import download_data\n",
    "url_mtp = \"https://data.montpellier3m.fr/sites/default/files/ressources/MMM_MMM_DAE.csv\"\n",
    "\n",
    "\n",
    "data = download_data(url_mtp)"
   ]
  },
  {
   "cell_type": "markdown",
   "metadata": {},
   "source": [
    "## Drop empty columns"
   ]
  },
  {
   "cell_type": "code",
   "execution_count": null,
   "metadata": {},
   "outputs": [],
   "source": [
    "data.dropna(\n",
    "    axis='columns',\n",
    "    how='all',\n",
    "    inplace=True)\n",
    "data"
   ]
  },
  {
   "cell_type": "markdown",
   "metadata": {},
   "source": [
    "## Keeping only columns of interest\n",
    "\n",
    "We want to build a new dataframe containing:\n",
    "- ID (the dataframe's index)\n",
    "- Name\n",
    "- Adress (including postal code (com_cp) and city name (com_nom))\n",
    "- Contact phone number\n",
    "- Maintenance frequency\n",
    "- Latest maintenance date\n",
    "- Longitude\n",
    "- Latitude"
   ]
  },
  {
   "cell_type": "code",
   "execution_count": null,
   "metadata": {},
   "outputs": [],
   "source": [
    "kept_columns = [\n",
    "    'nom', 'adr_num','adr_voie',\n",
    "    'com_cp', 'com_nom', \n",
    "    'tel1',\n",
    "    'freq_mnt', 'dermnt',\n",
    "    'lat_coor1', 'long_coor1']\n",
    "data_filter = data.filter(items=kept_columns)\n",
    "data_filter\n"
   ]
  },
  {
   "cell_type": "code",
   "execution_count": null,
   "metadata": {},
   "outputs": [],
   "source": [
    "data_filter.info()"
   ]
  },
  {
   "cell_type": "markdown",
   "metadata": {},
   "source": [
    "## Extract problematic cases to specify cleaning functions\n",
    "\n",
    "Use this space to explore the dataframe and identify problems in formatting and sanitizing. Save the indexes of interesting problematic cases in the following set `idx_problem_cases`, as you expore the data.\n",
    "\n",
    "For instance, if you identify examples 3 and 45 to be dirty, add them to the set with:\n",
    "`idx_problem_cases.update([3, 45])`"
   ]
  },
  {
   "cell_type": "code",
   "execution_count": null,
   "metadata": {},
   "outputs": [],
   "source": [
    "idx_problem_cases = set()"
   ]
  },
  {
   "cell_type": "markdown",
   "metadata": {},
   "source": [
    "### Address data"
   ]
  },
  {
   "cell_type": "code",
   "execution_count": null,
   "metadata": {},
   "outputs": [],
   "source": [
    "data_filter.filter(regex=r\"adr_|com_\")"
   ]
  },
  {
   "cell_type": "markdown",
   "metadata": {},
   "source": [
    "#### adr_num field"
   ]
  },
  {
   "cell_type": "code",
   "execution_count": null,
   "metadata": {},
   "outputs": [],
   "source": [
    "data_filter.adr_num"
   ]
  },
  {
   "cell_type": "markdown",
   "metadata": {},
   "source": [
    "#### adr_voie field"
   ]
  },
  {
   "cell_type": "code",
   "execution_count": null,
   "metadata": {},
   "outputs": [],
   "source": [
    "data_filter.adr_voie"
   ]
  },
  {
   "cell_type": "markdown",
   "metadata": {},
   "source": [
    "#### com_cp field"
   ]
  },
  {
   "cell_type": "code",
   "execution_count": null,
   "metadata": {},
   "outputs": [],
   "source": [
    "data_filter.com_cp"
   ]
  },
  {
   "cell_type": "markdown",
   "metadata": {},
   "source": [
    "#### com_nom field"
   ]
  },
  {
   "cell_type": "code",
   "execution_count": null,
   "metadata": {},
   "outputs": [],
   "source": [
    "data_filter.com_nom"
   ]
  },
  {
   "cell_type": "markdown",
   "metadata": {},
   "source": [
    "### Contact info"
   ]
  },
  {
   "cell_type": "code",
   "execution_count": null,
   "metadata": {},
   "outputs": [],
   "source": [
    "data_filter.tel1"
   ]
  },
  {
   "cell_type": "markdown",
   "metadata": {},
   "source": [
    "### Latest maintenance date"
   ]
  },
  {
   "cell_type": "markdown",
   "metadata": {},
   "source": [
    "date_filter.dermnt"
   ]
  },
  {
   "cell_type": "markdown",
   "metadata": {},
   "source": [
    "### Latitude and longitude"
   ]
  },
  {
   "cell_type": "code",
   "execution_count": null,
   "metadata": {},
   "outputs": [],
   "source": [
    "data_filter.filter(regex=r\"_coor\")"
   ]
  },
  {
   "cell_type": "markdown",
   "metadata": {},
   "source": [
    "## Review selected cases and save as sample dirty data"
   ]
  },
  {
   "cell_type": "code",
   "execution_count": null,
   "metadata": {},
   "outputs": [],
   "source": [
    "sample_dirty = data_filter.loc[list(idx_problem_cases)]\n",
    "sample_dirty"
   ]
  },
  {
   "cell_type": "code",
   "execution_count": null,
   "metadata": {},
   "outputs": [],
   "source": [
    "sample_dirty.to_csv('data/sample_dirty.csv')"
   ]
  }
 ],
 "metadata": {
  "language_info": {
   "name": "python"
  }
 },
 "nbformat": 4,
 "nbformat_minor": 2
}
