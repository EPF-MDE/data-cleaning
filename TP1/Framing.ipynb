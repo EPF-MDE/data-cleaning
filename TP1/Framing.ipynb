{
 "cells": [
  {
   "attachments": {},
   "cell_type": "markdown",
   "metadata": {},
   "source": [
    "# TP1 Framing\n",
    "\n",
    "Here you will work on two exercises in framing data. They will essentially involve the use of `groupby` to aggregate data on a particular column. If you are not yet familiar with the usage of `pd.DataFrame.groupby`, I suggest you study the following tutorial **before** attempting the exercises:\n",
    ">[\"pandas GroupBy: Your Guide to Grouping Data in Python\" by Brad Solomon, at RealPython.com](https://realpython.com/pandas-groupby)"
   ]
  },
  {
   "attachments": {},
   "cell_type": "markdown",
   "metadata": {},
   "source": [
    "## Imports"
   ]
  },
  {
   "cell_type": "code",
   "execution_count": 24,
   "metadata": {},
   "outputs": [],
   "source": [
    "import numpy as np\n",
    "import pandas as pd\n",
    "\n",
    "\n",
    "import matplotlib.pyplot as plt"
   ]
  },
  {
   "attachments": {},
   "cell_type": "markdown",
   "metadata": {},
   "source": [
    "## Exercise 1 - eCommerce data\n",
    "\n",
    "### Problem statement\n",
    "1. This data is mostly formatted. You may need to set dtypes when loading the csv. \n",
    "2. From this data, select a sample of dirty data (`sample_dirty`) that you will frame manually.\n",
    "3. Create a target sample dataframe corresponding to the following framing constraints (`sample_clean_invoices`)\n",
    "    - Group data by `InvoiceNo`. \n",
    "    - Add a column `NumItems` with the number of items for a given `InvoiceNo`\n",
    "    - Add a column `Total` corresponding to the total value of the purchase associated to `InvoiceNo`\n",
    "    - Also keep `CustomerID`, `date`. Drop the rest.\n",
    "4. Create a target sample dataframe corresponding to the following framing constraints (`sample_clean_customer`)\n",
    "    - Group data by `CustomerID`. \n",
    "    - Add a column `Total` corresponding to the total value of all purchases associated to `CustomerID`\n",
    "    - Add a column `NumItems` with the number of items for a given `CustomerID`\n",
    "    - Add a column `NumInvoices` with the number of invoices for a given `CustomerID`\n",
    "    - Add a column `FirstInvoiceDate` with the date of the earliest invoice associated to `CustomerID`\n",
    "    - Drop the remaining columns\n",
    "\n",
    "### Definition of DONE\n",
    "1.You have a framing function such that:\n",
    " `frame_by_invoice(sample_dirty).equals(sample_clean_invoice)`\n",
    "2.You have a framing function such that:\n",
    " `frame_by_customer(sample_dirty).equals(sample_clean_customer)`\n",
    "\n",
    "### Implementation\n",
    "Play around with your `sample_dirty` data until you reach the targets `sample_clean_invoice` and `sample_clean_customer`. The following pandas functions may be useful to you:\n",
    "- [`pd.DataFrame.groupby`](https://pandas.pydata.org/docs/reference/api/pandas.DataFrame.groupby.html)\n",
    "- [`pd.Series.sort_index`](https://pandas.pydata.org/docs/reference/api/pandas.Series.sort_index.html)\n",
    "- [`pd.Series.value_counts`](https://pandas.pydata.org/docs/reference/api/pandas.Series.value_counts.html)\n",
    "- [`pd.DataFrame.reset_index`](https://pandas.pydata.org/docs/reference/api/pandas.DataFrame.reset_index.html)\n",
    "- [`pd.core.groupby.GroupBy.apply`](https://pandas.pydata.org/docs/reference/api/pandas.core.groupby.GroupBy.apply.html)\n"
   ]
  },
  {
   "cell_type": "code",
   "execution_count": 25,
   "metadata": {},
   "outputs": [
    {
     "name": "stdout",
     "output_type": "stream",
     "text": [
      "<class 'pandas.core.frame.DataFrame'>\n",
      "RangeIndex: 541909 entries, 0 to 541908\n",
      "Data columns (total 8 columns):\n",
      " #   Column       Non-Null Count   Dtype         \n",
      "---  ------       --------------   -----         \n",
      " 0   InvoiceNo    541909 non-null  string        \n",
      " 1   StockCode    541909 non-null  object        \n",
      " 2   Description  540455 non-null  object        \n",
      " 3   Quantity     541909 non-null  int32         \n",
      " 4   InvoiceDate  541909 non-null  datetime64[ns]\n",
      " 5   UnitPrice    541909 non-null  float64       \n",
      " 6   CustomerID   406829 non-null  string        \n",
      " 7   Country      541909 non-null  object        \n",
      "dtypes: datetime64[ns](1), float64(1), int32(1), object(3), string(2)\n",
      "memory usage: 31.0+ MB\n"
     ]
    }
   ],
   "source": [
    "FILE_PATH = 'data/ecommerce.csv'\n",
    "ecommerce = pd.read_csv(\n",
    "    FILE_PATH, \n",
    "    sep=';',\n",
    "    dtype=dict(\n",
    "        Quantity='int',\n",
    "        UnitPrice='float',\n",
    "        CustomerID='string',\n",
    "        InvoiceNo='string',\n",
    "    ),\n",
    "    parse_dates=[4],\n",
    "    encoding='latin1',\n",
    ")\n",
    "ecommerce.info()\n"
   ]
  },
  {
   "cell_type": "code",
   "execution_count": 26,
   "metadata": {},
   "outputs": [
    {
     "data": {
      "text/html": [
       "<div>\n",
       "<style scoped>\n",
       "    .dataframe tbody tr th:only-of-type {\n",
       "        vertical-align: middle;\n",
       "    }\n",
       "\n",
       "    .dataframe tbody tr th {\n",
       "        vertical-align: top;\n",
       "    }\n",
       "\n",
       "    .dataframe thead th {\n",
       "        text-align: right;\n",
       "    }\n",
       "</style>\n",
       "<table border=\"1\" class=\"dataframe\">\n",
       "  <thead>\n",
       "    <tr style=\"text-align: right;\">\n",
       "      <th></th>\n",
       "      <th>InvoiceNo</th>\n",
       "      <th>StockCode</th>\n",
       "      <th>Description</th>\n",
       "      <th>Quantity</th>\n",
       "      <th>InvoiceDate</th>\n",
       "      <th>UnitPrice</th>\n",
       "      <th>CustomerID</th>\n",
       "      <th>Country</th>\n",
       "    </tr>\n",
       "  </thead>\n",
       "  <tbody>\n",
       "    <tr>\n",
       "      <th>0</th>\n",
       "      <td>536365</td>\n",
       "      <td>85123A</td>\n",
       "      <td>WHITE HANGING HEART T-LIGHT HOLDER</td>\n",
       "      <td>6</td>\n",
       "      <td>2010-12-01 08:26:00</td>\n",
       "      <td>2.55</td>\n",
       "      <td>17850</td>\n",
       "      <td>United Kingdom</td>\n",
       "    </tr>\n",
       "    <tr>\n",
       "      <th>1</th>\n",
       "      <td>536365</td>\n",
       "      <td>71053</td>\n",
       "      <td>WHITE METAL LANTERN</td>\n",
       "      <td>6</td>\n",
       "      <td>2010-12-01 08:26:00</td>\n",
       "      <td>3.39</td>\n",
       "      <td>17850</td>\n",
       "      <td>United Kingdom</td>\n",
       "    </tr>\n",
       "    <tr>\n",
       "      <th>2</th>\n",
       "      <td>536365</td>\n",
       "      <td>84406B</td>\n",
       "      <td>CREAM CUPID HEARTS COAT HANGER</td>\n",
       "      <td>8</td>\n",
       "      <td>2010-12-01 08:26:00</td>\n",
       "      <td>2.75</td>\n",
       "      <td>17850</td>\n",
       "      <td>United Kingdom</td>\n",
       "    </tr>\n",
       "    <tr>\n",
       "      <th>3</th>\n",
       "      <td>536365</td>\n",
       "      <td>84029G</td>\n",
       "      <td>KNITTED UNION FLAG HOT WATER BOTTLE</td>\n",
       "      <td>6</td>\n",
       "      <td>2010-12-01 08:26:00</td>\n",
       "      <td>3.39</td>\n",
       "      <td>17850</td>\n",
       "      <td>United Kingdom</td>\n",
       "    </tr>\n",
       "    <tr>\n",
       "      <th>4</th>\n",
       "      <td>536365</td>\n",
       "      <td>84029E</td>\n",
       "      <td>RED WOOLLY HOTTIE WHITE HEART.</td>\n",
       "      <td>6</td>\n",
       "      <td>2010-12-01 08:26:00</td>\n",
       "      <td>3.39</td>\n",
       "      <td>17850</td>\n",
       "      <td>United Kingdom</td>\n",
       "    </tr>\n",
       "  </tbody>\n",
       "</table>\n",
       "</div>"
      ],
      "text/plain": [
       "  InvoiceNo StockCode                          Description  Quantity  \\\n",
       "0    536365    85123A   WHITE HANGING HEART T-LIGHT HOLDER         6   \n",
       "1    536365     71053                  WHITE METAL LANTERN         6   \n",
       "2    536365    84406B       CREAM CUPID HEARTS COAT HANGER         8   \n",
       "3    536365    84029G  KNITTED UNION FLAG HOT WATER BOTTLE         6   \n",
       "4    536365    84029E       RED WOOLLY HOTTIE WHITE HEART.         6   \n",
       "\n",
       "          InvoiceDate  UnitPrice CustomerID         Country  \n",
       "0 2010-12-01 08:26:00       2.55      17850  United Kingdom  \n",
       "1 2010-12-01 08:26:00       3.39      17850  United Kingdom  \n",
       "2 2010-12-01 08:26:00       2.75      17850  United Kingdom  \n",
       "3 2010-12-01 08:26:00       3.39      17850  United Kingdom  \n",
       "4 2010-12-01 08:26:00       3.39      17850  United Kingdom  "
      ]
     },
     "execution_count": 26,
     "metadata": {},
     "output_type": "execute_result"
    }
   ],
   "source": [
    "ecommerce.head()"
   ]
  },
  {
   "attachments": {},
   "cell_type": "markdown",
   "metadata": {},
   "source": [
    "### Your work here"
   ]
  },
  {
   "attachments": {},
   "cell_type": "markdown",
   "metadata": {},
   "source": [
    "## Exercise 2 - Gaz data\n",
    "### Problem statement\n",
    "1. This data is mostly formatted. You may need to set dtypes when loading the csv. \n",
    "2. From this data, select a sample of dirty data (`sample_dirty`) that you will frame manually.\n",
    "3. Create a target sample dataframe corresponding to the following framing constraints (`sample_clean`)\n",
    "   - Group data by month (to be extracted from `Date` column)\n",
    "   - Aggregate `Price` in two forms\n",
    "      - on  a column `mean` containing the mean price of the corresponding month\n",
    "      - on a column `median` containing the median price of the corresponding month\n",
    "   - Add a column `under_mean` with the quantity of days`in the month in which the price was bellow the month's mean \n",
    "\n",
    "\n",
    "### Definition of DONE\n",
    "You have a framing function such that:\n",
    " `frame_by_invoice(sample_dirty).equals(sample_clean)`\n",
    "\n",
    "\n",
    "### Implementation\n",
    "Play around with your `sample_dirty` data until you reach the target `sample_clean`. The following pandas functions may be useful to you:\n",
    "- [`pd.DataFrame.groupby`](https://pandas.pydata.org/docs/reference/api/pandas.DataFrame.groupby.html)\n",
    "- [`pd.Series.sort_index`](https://pandas.pydata.org/docs/reference/api/pandas.Series.sort_index.html)\n",
    "- [`pd.Series.value_counts`](https://pandas.pydata.org/docs/reference/api/pandas.Series.value_counts.html)\n",
    "- [`pd.DataFrame.reset_index`](https://pandas.pydata.org/docs/reference/api/pandas.DataFrame.reset_index.html)\n",
    "- [`pd.core.groupby.GroupBy.apply`](https://pandas.pydata.org/docs/reference/api/pandas.core.groupby.GroupBy.apply.html)"
   ]
  },
  {
   "cell_type": "code",
   "execution_count": 28,
   "metadata": {},
   "outputs": [
    {
     "name": "stdout",
     "output_type": "stream",
     "text": [
      "<class 'pandas.core.frame.DataFrame'>\n",
      "RangeIndex: 5953 entries, 0 to 5952\n",
      "Data columns (total 2 columns):\n",
      " #   Column  Non-Null Count  Dtype         \n",
      "---  ------  --------------  -----         \n",
      " 0   Date    5953 non-null   datetime64[ns]\n",
      " 1   Price   5952 non-null   float64       \n",
      "dtypes: datetime64[ns](1), float64(1)\n",
      "memory usage: 93.1 KB\n"
     ]
    }
   ],
   "source": [
    "GAZ_FILE_PATH = 'data/gaz_prices_daily_csv.csv'\n",
    "gaz = pd.read_csv(GAZ_FILE_PATH,\n",
    "                  sep=';',\n",
    "                  dtype={'Price':'float'},\n",
    "                  parse_dates=[0])\n",
    "gaz.info()"
   ]
  },
  {
   "attachments": {},
   "cell_type": "markdown",
   "metadata": {},
   "source": [
    "### Your work here"
   ]
  },
  {
   "cell_type": "code",
   "execution_count": null,
   "metadata": {},
   "outputs": [],
   "source": []
  }
 ],
 "metadata": {
  "kernelspec": {
   "display_name": "ml-latest",
   "language": "python",
   "name": "python3"
  },
  "language_info": {
   "codemirror_mode": {
    "name": "ipython",
    "version": 3
   },
   "file_extension": ".py",
   "mimetype": "text/x-python",
   "name": "python",
   "nbconvert_exporter": "python",
   "pygments_lexer": "ipython3",
   "version": "3.10.5"
  },
  "orig_nbformat": 4
 },
 "nbformat": 4,
 "nbformat_minor": 2
}
