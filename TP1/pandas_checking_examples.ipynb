{
 "cells": [
  {
   "attachments": {},
   "cell_type": "markdown",
   "metadata": {},
   "source": [
    "# Pandas functions useful for finding formatting and sanitizing problems\n",
    "\n",
    "In order to check your data for formatting problems, you will probably need to use some string operations. Some of these are demonstrated in the remaining of thi notebook. For more examples, check [\"Working with text data\"](https://pandas.pydata.org/docs/user_guide/text.html) on Pandas docs.\n"
   ]
  },
  {
   "cell_type": "markdown",
   "metadata": {},
   "source": [
    "# Imports"
   ]
  },
  {
   "cell_type": "code",
   "execution_count": 1,
   "metadata": {},
   "outputs": [],
   "source": [
    "import numpy as np\n",
    "import pandas as pd\n",
    "\n",
    "import matplotlib.pyplot as plt\n"
   ]
  },
  {
   "cell_type": "code",
   "execution_count": 2,
   "metadata": {},
   "outputs": [],
   "source": [
    "# Telilng pandas to diplay more dataframe content\n",
    "\n",
    "pd.set_option('display.max_rows', 20)\n",
    "pd.set_option('display.max_columns', 51)\n",
    "pd.set_option('display.width', 1000)"
   ]
  },
  {
   "cell_type": "markdown",
   "metadata": {},
   "source": [
    "# (Down)Load data"
   ]
  },
  {
   "cell_type": "code",
   "execution_count": 3,
   "metadata": {},
   "outputs": [],
   "source": [
    "from loader import download_data\n",
    "url_mtp = \"https://data.montpellier3m.fr/sites/default/files/ressources/MMM_MMM_DAE.csv\"\n",
    "\n",
    "\n",
    "data = download_data(url_mtp)"
   ]
  },
  {
   "cell_type": "markdown",
   "metadata": {},
   "source": [
    "# Examples"
   ]
  },
  {
   "attachments": {},
   "cell_type": "markdown",
   "metadata": {},
   "source": [
    "## Checking all values in a column"
   ]
  },
  {
   "cell_type": "code",
   "execution_count": 4,
   "metadata": {},
   "outputs": [
    {
     "data": {
      "text/plain": [
       "array([' ', ' ', ' ', ' ', '155', '154', '1', '3490', ' ', '20', '830',\n",
       "       ' ', '135', '21', '280', '570', '14', '164', '41', '3', '28', ' ',\n",
       "       '50', ' ', '10', '842', '2', '950', '14', '1', '2', ' ', '280',\n",
       "       '6', '125', '655', '45', '158', '119', '14', '-', '1000', '85',\n",
       "       '99', '13', '43', '170', '-', '424 - 460', '843', '196 - 156',\n",
       "       '99', '300', '123', '110', '20', '230', '237', '67', '1933', '551',\n",
       "       '971', '380', '100', '122', '26', '215', '-', '60', '-', ' ', '88',\n",
       "       '1375', '183', '219 - 289', '45', '5', '117', '50', '8', '1',\n",
       "       '19 bis', '1945', '789', '25', ' ', '1', ' ', '150', ' ', '18',\n",
       "       '1', '237', '1071', '118', '111', '55', '280', ' ', ' ', '-', '-',\n",
       "       '-', ' ', '50', '50', '2', '67', '419', '1184', ' ', '260', ' ',\n",
       "       ' ', ' ', '175', ' ', ' ', '10', '13', '3', '1', '1247', '64', '7',\n",
       "       '205', '1330', '74', '501', '-', '694 -700', '240', ' ', ' ', '16',\n",
       "       '2', ' ', '1784', '50', '50', '50', '130', '18', ' ', ' ', '14',\n",
       "       ' ', ' ', ' ', ' ', '39', ' ', '2', ' ', '545', '15', ' ', '700',\n",
       "       ' ', '218', ' ', ' ', ' ', ' ', ' ', ' ', ' ', ' ', ' ', ' ', ' ',\n",
       "       ' ', ' ', '8', '104', '220', '2', '106', '205', '2', '80', '2',\n",
       "       '200', '747', '3224', '717', ' ', '270', '29', '90', '29', '101',\n",
       "       '34', '1', ' ', '1', '206', '2600', '2750', '33', '730', '905',\n",
       "       '905', '1', '1', '1', '504', '129', '2', ' ', '1129', '1', '10',\n",
       "       '245', '371', '765', '98', '1056', '1027', ' ', '1', ' ', '164',\n",
       "       ' ', ' ', '125', '1', '220', '220', '201', '170', ' ', '1635',\n",
       "       '257-269', '4', '263', '50', '2', '233', '130', ' ', '15', '2460',\n",
       "       '10', '76', ' ', '40', ' ', '1401', '501', '121', '139', ' ', ' ',\n",
       "       ' ', ' ', ' ', ' ', '778', '1482', '1037', ' ', '122', '26', '14',\n",
       "       '9', '482', '44', '46', '50', ' ', '-', '29',\n",
       "       '1 place Jacques Mirouse, MONTPELLIER', '105'], dtype=object)"
      ]
     },
     "execution_count": 4,
     "metadata": {},
     "output_type": "execute_result"
    }
   ],
   "source": [
    "data.adr_num.values"
   ]
  },
  {
   "attachments": {},
   "cell_type": "markdown",
   "metadata": {},
   "source": [
    "## Checking for unique values"
   ]
  },
  {
   "cell_type": "code",
   "execution_count": 5,
   "metadata": {},
   "outputs": [
    {
     "data": {
      "text/plain": [
       "array(['Montpellier', ' ', 'MONTPELLIER'], dtype=object)"
      ]
     },
     "execution_count": 5,
     "metadata": {},
     "output_type": "execute_result"
    }
   ],
   "source": [
    "data.com_nom.unique()"
   ]
  },
  {
   "attachments": {},
   "cell_type": "markdown",
   "metadata": {},
   "source": [
    "## Split a string into columns\n",
    "A string can be split into its composing parts, with each going to a particular column. Here is an example:"
   ]
  },
  {
   "cell_type": "code",
   "execution_count": 6,
   "metadata": {},
   "outputs": [
    {
     "data": {
      "text/html": [
       "<div>\n",
       "<style scoped>\n",
       "    .dataframe tbody tr th:only-of-type {\n",
       "        vertical-align: middle;\n",
       "    }\n",
       "\n",
       "    .dataframe tbody tr th {\n",
       "        vertical-align: top;\n",
       "    }\n",
       "\n",
       "    .dataframe thead th {\n",
       "        text-align: right;\n",
       "    }\n",
       "</style>\n",
       "<table border=\"1\" class=\"dataframe\">\n",
       "  <thead>\n",
       "    <tr style=\"text-align: right;\">\n",
       "      <th></th>\n",
       "      <th>0</th>\n",
       "      <th>1</th>\n",
       "      <th>2</th>\n",
       "      <th>3</th>\n",
       "      <th>4</th>\n",
       "    </tr>\n",
       "  </thead>\n",
       "  <tbody>\n",
       "    <tr>\n",
       "      <th>0</th>\n",
       "      <td>334</td>\n",
       "      <td>67</td>\n",
       "      <td>64</td>\n",
       "      <td>87</td>\n",
       "      <td>70</td>\n",
       "    </tr>\n",
       "    <tr>\n",
       "      <th>1</th>\n",
       "      <td>None</td>\n",
       "      <td>None</td>\n",
       "      <td>None</td>\n",
       "      <td>None</td>\n",
       "      <td>None</td>\n",
       "    </tr>\n",
       "    <tr>\n",
       "      <th>2</th>\n",
       "      <td>None</td>\n",
       "      <td>None</td>\n",
       "      <td>None</td>\n",
       "      <td>None</td>\n",
       "      <td>None</td>\n",
       "    </tr>\n",
       "    <tr>\n",
       "      <th>3</th>\n",
       "      <td>None</td>\n",
       "      <td>None</td>\n",
       "      <td>None</td>\n",
       "      <td>None</td>\n",
       "      <td>None</td>\n",
       "    </tr>\n",
       "    <tr>\n",
       "      <th>4</th>\n",
       "      <td>+334</td>\n",
       "      <td>67</td>\n",
       "      <td>40</td>\n",
       "      <td>33</td>\n",
       "      <td>57</td>\n",
       "    </tr>\n",
       "    <tr>\n",
       "      <th>...</th>\n",
       "      <td>...</td>\n",
       "      <td>...</td>\n",
       "      <td>...</td>\n",
       "      <td>...</td>\n",
       "      <td>...</td>\n",
       "    </tr>\n",
       "    <tr>\n",
       "      <th>270</th>\n",
       "      <td>334</td>\n",
       "      <td>67</td>\n",
       "      <td>54</td>\n",
       "      <td>45</td>\n",
       "      <td>20</td>\n",
       "    </tr>\n",
       "    <tr>\n",
       "      <th>271</th>\n",
       "      <td>334</td>\n",
       "      <td>67</td>\n",
       "      <td>75</td>\n",
       "      <td>44</td>\n",
       "      <td>43</td>\n",
       "    </tr>\n",
       "    <tr>\n",
       "      <th>272</th>\n",
       "      <td>334</td>\n",
       "      <td>67</td>\n",
       "      <td>34</td>\n",
       "      <td>71</td>\n",
       "      <td>33</td>\n",
       "    </tr>\n",
       "    <tr>\n",
       "      <th>273</th>\n",
       "      <td>None</td>\n",
       "      <td>None</td>\n",
       "      <td>None</td>\n",
       "      <td>None</td>\n",
       "      <td>None</td>\n",
       "    </tr>\n",
       "    <tr>\n",
       "      <th>274</th>\n",
       "      <td>334</td>\n",
       "      <td>67</td>\n",
       "      <td>75</td>\n",
       "      <td>10</td>\n",
       "      <td>55</td>\n",
       "    </tr>\n",
       "  </tbody>\n",
       "</table>\n",
       "<p>275 rows × 5 columns</p>\n",
       "</div>"
      ],
      "text/plain": [
       "        0     1     2     3     4\n",
       "0     334    67    64    87    70\n",
       "1    None  None  None  None  None\n",
       "2    None  None  None  None  None\n",
       "3    None  None  None  None  None\n",
       "4    +334    67    40    33    57\n",
       "..    ...   ...   ...   ...   ...\n",
       "270   334    67    54    45    20\n",
       "271   334    67    75    44    43\n",
       "272   334    67    34    71    33\n",
       "273  None  None  None  None  None\n",
       "274   334    67    75    10    55\n",
       "\n",
       "[275 rows x 5 columns]"
      ]
     },
     "execution_count": 6,
     "metadata": {},
     "output_type": "execute_result"
    }
   ],
   "source": [
    "split_phones = data.tel1.str.split(expand=True)\n",
    "split_phones"
   ]
  },
  {
   "attachments": {},
   "cell_type": "markdown",
   "metadata": {},
   "source": [
    "The fact that we got 5 columns out of the split means that at most phones are writen in 5 space-separated parts.\n"
   ]
  },
  {
   "attachments": {},
   "cell_type": "markdown",
   "metadata": {},
   "source": [
    "### Using counting and masking to select atypical cases"
   ]
  },
  {
   "cell_type": "markdown",
   "metadata": {},
   "source": [
    " At this point one thing you can do is count the non empty elements across each row, and use that info to see what are the values not matching the this 5-group pattern:"
   ]
  },
  {
   "cell_type": "code",
   "execution_count": 7,
   "metadata": {},
   "outputs": [
    {
     "data": {
      "text/plain": [
       "45    -\n",
       "69    -\n",
       "70    -\n",
       "Name: tel1, dtype: object"
      ]
     },
     "execution_count": 7,
     "metadata": {},
     "output_type": "execute_result"
    }
   ],
   "source": [
    "not_five = split_phones.count(axis=1) != 5\n",
    "not_zero = split_phones.count(axis=1) != 0\n",
    "data.tel1.loc[not_five & not_zero]"
   ]
  },
  {
   "attachments": {},
   "cell_type": "markdown",
   "metadata": {},
   "source": [
    "### Combine with unique and find possible phone preffixes"
   ]
  },
  {
   "attachments": {},
   "cell_type": "markdown",
   "metadata": {},
   "source": [
    "You can also split at only the first whitespace and check the first column to see the different ways phone preffixes got written."
   ]
  },
  {
   "cell_type": "code",
   "execution_count": 8,
   "metadata": {},
   "outputs": [
    {
     "data": {
      "text/html": [
       "<div>\n",
       "<style scoped>\n",
       "    .dataframe tbody tr th:only-of-type {\n",
       "        vertical-align: middle;\n",
       "    }\n",
       "\n",
       "    .dataframe tbody tr th {\n",
       "        vertical-align: top;\n",
       "    }\n",
       "\n",
       "    .dataframe thead th {\n",
       "        text-align: right;\n",
       "    }\n",
       "</style>\n",
       "<table border=\"1\" class=\"dataframe\">\n",
       "  <thead>\n",
       "    <tr style=\"text-align: right;\">\n",
       "      <th></th>\n",
       "      <th>0</th>\n",
       "      <th>1</th>\n",
       "    </tr>\n",
       "  </thead>\n",
       "  <tbody>\n",
       "    <tr>\n",
       "      <th>0</th>\n",
       "      <td>334</td>\n",
       "      <td>67 64 87 70</td>\n",
       "    </tr>\n",
       "    <tr>\n",
       "      <th>1</th>\n",
       "      <td>None</td>\n",
       "      <td>None</td>\n",
       "    </tr>\n",
       "    <tr>\n",
       "      <th>2</th>\n",
       "      <td>None</td>\n",
       "      <td>None</td>\n",
       "    </tr>\n",
       "    <tr>\n",
       "      <th>3</th>\n",
       "      <td>None</td>\n",
       "      <td>None</td>\n",
       "    </tr>\n",
       "    <tr>\n",
       "      <th>4</th>\n",
       "      <td>+334</td>\n",
       "      <td>67 40 33 57</td>\n",
       "    </tr>\n",
       "    <tr>\n",
       "      <th>...</th>\n",
       "      <td>...</td>\n",
       "      <td>...</td>\n",
       "    </tr>\n",
       "    <tr>\n",
       "      <th>270</th>\n",
       "      <td>334</td>\n",
       "      <td>67 54 45 20</td>\n",
       "    </tr>\n",
       "    <tr>\n",
       "      <th>271</th>\n",
       "      <td>334</td>\n",
       "      <td>67 75 44 43</td>\n",
       "    </tr>\n",
       "    <tr>\n",
       "      <th>272</th>\n",
       "      <td>334</td>\n",
       "      <td>67 34 71 33</td>\n",
       "    </tr>\n",
       "    <tr>\n",
       "      <th>273</th>\n",
       "      <td>None</td>\n",
       "      <td>None</td>\n",
       "    </tr>\n",
       "    <tr>\n",
       "      <th>274</th>\n",
       "      <td>334</td>\n",
       "      <td>67 75 10 55</td>\n",
       "    </tr>\n",
       "  </tbody>\n",
       "</table>\n",
       "<p>275 rows × 2 columns</p>\n",
       "</div>"
      ],
      "text/plain": [
       "        0            1\n",
       "0     334  67 64 87 70\n",
       "1    None         None\n",
       "2    None         None\n",
       "3    None         None\n",
       "4    +334  67 40 33 57\n",
       "..    ...          ...\n",
       "270   334  67 54 45 20\n",
       "271   334  67 75 44 43\n",
       "272   334  67 34 71 33\n",
       "273  None         None\n",
       "274   334  67 75 10 55\n",
       "\n",
       "[275 rows x 2 columns]"
      ]
     },
     "execution_count": 8,
     "metadata": {},
     "output_type": "execute_result"
    }
   ],
   "source": [
    "data.tel1.str.split(n=1, expand=True)"
   ]
  },
  {
   "cell_type": "code",
   "execution_count": 9,
   "metadata": {},
   "outputs": [
    {
     "data": {
      "text/plain": [
       "array(['334', None, '+334', '-', '336', '06', '337'], dtype=object)"
      ]
     },
     "execution_count": 9,
     "metadata": {},
     "output_type": "execute_result"
    }
   ],
   "source": [
    "data.tel1.str.split(n=1, expand=True)[0].unique()"
   ]
  },
  {
   "cell_type": "markdown",
   "metadata": {},
   "source": [
    "## Identify different formats in strings"
   ]
  },
  {
   "attachments": {},
   "cell_type": "markdown",
   "metadata": {},
   "source": [
    "You can use [regular expressions](https://www.geeksforgeeks.org/python-regex-cheat-sheet/) to check if strings match a particular pattern. \n",
    "\n",
    "\n",
    "For instance, to check for phone numbers following the pattern:\n",
    "- 33x xx xx xx xx --> use  `r\"33\\d \\d\\d \\d\\d \\d\\d \\d\\d\"`\n",
    "- +33x xx xx xx xx--> use `r\"\\+33\\d \\d\\d \\d\\d \\d\\d \\d\\d\"`\n",
    "- +33 0x xx xx xx xx--> use `r\"\\+33 0\\d \\d\\d \\d\\d \\d\\d \\d\\d\"`\n",
    "- either of the precedent --> use `r\"\\+*33 *0*\\d \\d\\d \\d\\d \\d\\d \\d\\d\"`\n",
    "\n",
    "If you want to check if a string starts with the pattern , use `match`. If you want a strict check where all string is a match, use `full match`. Here are some usage examples.\n",
    "\n",
    "If you are not familiar with regular expressions, I suggest you take some time to go through a tutorial, like [\"Regular expressions in Python\" from Google for Education](https://developers.google.com/edu/python/regular-expressions).\n",
    "\n",
    "If you just need a quick syntax refresher, a [cheatsheet](https://www.geeksforgeeks.org/python-regex-cheat-sheet/) should suffice. If you want to easily play around with your regex to validate it, you can use one of the online regex testers like [regex101](https://regex101.com/)\n"
   ]
  },
  {
   "attachments": {},
   "cell_type": "markdown",
   "metadata": {},
   "source": [
    "### String matches 0+ whitespace characters"
   ]
  },
  {
   "cell_type": "code",
   "execution_count": 10,
   "metadata": {},
   "outputs": [
    {
     "name": "stdout",
     "output_type": "stream",
     "text": [
      "Count of strings matching the pattern\n"
     ]
    },
    {
     "data": {
      "text/plain": [
       "49"
      ]
     },
     "execution_count": 10,
     "metadata": {},
     "output_type": "execute_result"
    }
   ],
   "source": [
    "only_whitespace = data.tel1.str.fullmatch(r\"\\s*\")\n",
    "\n",
    "print(\"Count of strings matching the pattern\")\n",
    "data.tel1[only_whitespace].count()"
   ]
  },
  {
   "attachments": {},
   "cell_type": "markdown",
   "metadata": {},
   "source": [
    "### String matches +33x xx xx xx xx or 33x xx xx xx xx"
   ]
  },
  {
   "cell_type": "code",
   "execution_count": 11,
   "metadata": {},
   "outputs": [
    {
     "name": "stdout",
     "output_type": "stream",
     "text": [
      "Count of strings NOT matching the pattern: \n"
     ]
    },
    {
     "data": {
      "text/plain": [
       "69"
      ]
     },
     "execution_count": 11,
     "metadata": {},
     "output_type": "execute_result"
    }
   ],
   "source": [
    "follows_pattern = data.tel1.str.fullmatch(\n",
    "    pat = r'\\+*33\\d \\d\\d \\d\\d \\d\\d \\d\\d'\n",
    ")\n",
    "\n",
    "print (\"Count of strings NOT matching the pattern: \")\n",
    "data.tel1[~follows_pattern].count()"
   ]
  },
  {
   "attachments": {},
   "cell_type": "markdown",
   "metadata": {},
   "source": [
    "### Dates not matching XXXX-XX-XX pattern"
   ]
  },
  {
   "cell_type": "code",
   "execution_count": 12,
   "metadata": {},
   "outputs": [
    {
     "data": {
      "text/plain": [
       "array([' ', '2018-12-6', 'Tous les ans'], dtype=object)"
      ]
     },
     "execution_count": 12,
     "metadata": {},
     "output_type": "execute_result"
    }
   ],
   "source": [
    "date_fmt = data.dermnt.str.match(r\"\\d\\d\\d\\d-\\d\\d-\\d\\d\")\n",
    "data.dermnt[~date_fmt].unique()"
   ]
  }
 ],
 "metadata": {
  "kernelspec": {
   "display_name": "ml-latest",
   "language": "python",
   "name": "python3"
  },
  "language_info": {
   "codemirror_mode": {
    "name": "ipython",
    "version": 3
   },
   "file_extension": ".py",
   "mimetype": "text/x-python",
   "name": "python",
   "nbconvert_exporter": "python",
   "pygments_lexer": "ipython3",
   "version": "3.10.5"
  },
  "orig_nbformat": 4
 },
 "nbformat": 4,
 "nbformat_minor": 2
}
